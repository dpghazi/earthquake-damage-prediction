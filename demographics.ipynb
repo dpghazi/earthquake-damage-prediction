{
 "cells": [
  {
   "cell_type": "markdown",
   "id": "d6ac2d6f-afea-4ad6-9c99-42cf43bd568a",
   "metadata": {},
   "source": [
    "<font size=\"+3\"><strong>Earthquake Damage In Gorkha🇳🇵 </strong></font>"
   ]
  },
  {
   "cell_type": "markdown",
   "id": "283e7546-e22e-4045-ad45-1dc9d200020f",
   "metadata": {},
   "source": [
    "<font size=\"+2\"><strong>Part 4: Demographics</strong></font>"
   ]
  },
  {
   "cell_type": "code",
   "execution_count": 1,
   "id": "4a48abec-7d1e-4ea3-90ce-2f908fdec15f",
   "metadata": {},
   "outputs": [],
   "source": [
    "__author__ = \"Donald Ghazi\"\n",
    "__email__ = \"donald@donaldghazi.com\"\n",
    "__website__ = \"donaldghazi.com\""
   ]
  },
  {
   "cell_type": "code",
   "execution_count": 2,
   "id": "a8f3bcc5-61d5-4607-8067-2ee3eb119890",
   "metadata": {},
   "outputs": [],
   "source": [
    "import sqlite3\n",
    "import warnings\n",
    "import matplotlib.pyplot as plt\n",
    "import numpy as np\n",
    "import pandas as pd\n",
    "\n",
    "from category_encoders import OneHotEncoder\n",
    "from sklearn.linear_model import LogisticRegression\n",
    "from sklearn.metrics import accuracy_score\n",
    "from sklearn.model_selection import train_test_split\n",
    "from sklearn.pipeline import Pipeline, make_pipeline\n",
    "from sklearn.utils.validation import check_is_fitted\n",
    "\n",
    "warnings.simplefilter(action=\"ignore\", category=FutureWarning)"
   ]
  },
  {
   "cell_type": "markdown",
   "id": "d79dceb0-3e6c-42db-be92-52170833628c",
   "metadata": {},
   "source": [
    "GOALS\n",
    " - Prepare household dataset for binary classification.\n",
    " - Create a logistic regression model to predict severe damage.\n",
    " - Explain model predictions using odds ratio.\n",
    " - Interrogate important features based on caste.\n",
    "\n",
    "Machine Learning Workflow \n",
    " - Prepare Data\n",
    "     - Import: household_demographics table\n",
    "     - Explore: Group categorical feature\n",
    "     - Split\n",
    "     \n",
    " - Build Model\n",
    "     - Baseline\n",
    "     - Iterate\n",
    "     - Evaluate\n",
    "     \n",
    " - Communicate Results\n",
    "     - Investigate apparent role of caste in building damage "
   ]
  },
  {
   "cell_type": "markdown",
   "id": "488c4f90-c873-45d3-a07f-d40783d80d3a",
   "metadata": {},
   "source": [
    "# Prepare Data"
   ]
  },
  {
   "cell_type": "code",
   "execution_count": 3,
   "id": "e15c6933-e19c-4624-8e33-a917f05f958f",
   "metadata": {},
   "outputs": [
    {
     "data": {
      "text/plain": [
       "'Connected: @/home/jovyan/nepal.sqlite'"
      ]
     },
     "execution_count": 3,
     "metadata": {},
     "output_type": "execute_result"
    }
   ],
   "source": [
    "# Connect to the nepal.sqlite database\n",
    "%reload_ext sql\n",
    "%sql sqlite:////home/jovyan/nepal.sqlite"
   ]
  },
  {
   "cell_type": "markdown",
   "id": "c130e845-48cf-4f01-bf37-133ff65654cf",
   "metadata": {},
   "source": [
    "**Household_demographics Table** "
   ]
  },
  {
   "cell_type": "markdown",
   "id": "0fa28759-ab69-44b8-a970-39b451629679",
   "metadata": {},
   "source": [
    "Select all columns from the `household_demographics` table, limiting my results to the first five rows."
   ]
  },
  {
   "cell_type": "code",
   "execution_count": 4,
   "id": "bcd50222-7b19-4032-b2cb-51329d5f332a",
   "metadata": {},
   "outputs": [
    {
     "name": "stdout",
     "output_type": "stream",
     "text": [
      " * sqlite:////home/jovyan/nepal.sqlite\n",
      "Done.\n"
     ]
    },
    {
     "data": {
      "text/html": [
       "<table>\n",
       "    <thead>\n",
       "        <tr>\n",
       "            <th>household_id</th>\n",
       "            <th>gender_household_head</th>\n",
       "            <th>age_household_head</th>\n",
       "            <th>caste_household</th>\n",
       "            <th>education_level_household_head</th>\n",
       "            <th>income_level_household</th>\n",
       "            <th>size_household</th>\n",
       "            <th>is_bank_account_present_in_household</th>\n",
       "        </tr>\n",
       "    </thead>\n",
       "    <tbody>\n",
       "        <tr>\n",
       "            <td>101</td>\n",
       "            <td>Male</td>\n",
       "            <td>31.0</td>\n",
       "            <td>Rai</td>\n",
       "            <td>Illiterate</td>\n",
       "            <td>Rs. 10 thousand</td>\n",
       "            <td>3.0</td>\n",
       "            <td>0.0</td>\n",
       "        </tr>\n",
       "        <tr>\n",
       "            <td>201</td>\n",
       "            <td>Female</td>\n",
       "            <td>62.0</td>\n",
       "            <td>Rai</td>\n",
       "            <td>Illiterate</td>\n",
       "            <td>Rs. 10 thousand</td>\n",
       "            <td>6.0</td>\n",
       "            <td>0.0</td>\n",
       "        </tr>\n",
       "        <tr>\n",
       "            <td>301</td>\n",
       "            <td>Male</td>\n",
       "            <td>51.0</td>\n",
       "            <td>Gharti/Bhujel</td>\n",
       "            <td>Illiterate</td>\n",
       "            <td>Rs. 10 thousand</td>\n",
       "            <td>13.0</td>\n",
       "            <td>0.0</td>\n",
       "        </tr>\n",
       "        <tr>\n",
       "            <td>401</td>\n",
       "            <td>Male</td>\n",
       "            <td>48.0</td>\n",
       "            <td>Gharti/Bhujel</td>\n",
       "            <td>Illiterate</td>\n",
       "            <td>Rs. 10 thousand</td>\n",
       "            <td>5.0</td>\n",
       "            <td>0.0</td>\n",
       "        </tr>\n",
       "        <tr>\n",
       "            <td>501</td>\n",
       "            <td>Male</td>\n",
       "            <td>70.0</td>\n",
       "            <td>Gharti/Bhujel</td>\n",
       "            <td>Illiterate</td>\n",
       "            <td>Rs. 10 thousand</td>\n",
       "            <td>8.0</td>\n",
       "            <td>0.0</td>\n",
       "        </tr>\n",
       "    </tbody>\n",
       "</table>"
      ],
      "text/plain": [
       "[(101, 'Male', 31.0, 'Rai', 'Illiterate', 'Rs. 10 thousand', 3.0, 0.0),\n",
       " (201, 'Female', 62.0, 'Rai', 'Illiterate', 'Rs. 10 thousand', 6.0, 0.0),\n",
       " (301, 'Male', 51.0, 'Gharti/Bhujel', 'Illiterate', 'Rs. 10 thousand', 13.0, 0.0),\n",
       " (401, 'Male', 48.0, 'Gharti/Bhujel', 'Illiterate', 'Rs. 10 thousand', 5.0, 0.0),\n",
       " (501, 'Male', 70.0, 'Gharti/Bhujel', 'Illiterate', 'Rs. 10 thousand', 8.0, 0.0)]"
      ]
     },
     "execution_count": 4,
     "metadata": {},
     "output_type": "execute_result"
    }
   ],
   "source": [
    "%%sql\n",
    "SELECT * \n",
    "FROM household_demographics\n",
    "LIMIT 5"
   ]
  },
  {
   "cell_type": "markdown",
   "id": "2ce02b62-973d-4b13-8008-17ad3e9e7ef7",
   "metadata": {},
   "source": [
    "How many observations are in the `household_demographics` table? "
   ]
  },
  {
   "cell_type": "code",
   "execution_count": 5,
   "id": "0e5b19ca-a9e4-4498-ba82-9fa65b4d4a31",
   "metadata": {},
   "outputs": [
    {
     "name": "stdout",
     "output_type": "stream",
     "text": [
      " * sqlite:////home/jovyan/nepal.sqlite\n",
      "Done.\n"
     ]
    },
    {
     "data": {
      "text/html": [
       "<table>\n",
       "    <thead>\n",
       "        <tr>\n",
       "            <th>count(*)</th>\n",
       "        </tr>\n",
       "    </thead>\n",
       "    <tbody>\n",
       "        <tr>\n",
       "            <td>249932</td>\n",
       "        </tr>\n",
       "    </tbody>\n",
       "</table>"
      ],
      "text/plain": [
       "[(249932,)]"
      ]
     },
     "execution_count": 5,
     "metadata": {},
     "output_type": "execute_result"
    }
   ],
   "source": [
    "%%sql\n",
    "SELECT count(*)\n",
    "FROM household_demographics"
   ]
  },
  {
   "cell_type": "markdown",
   "id": "386b7137-730f-4ebd-8ddc-c1be41aecbba",
   "metadata": {},
   "source": [
    "**Id_map Table**"
   ]
  },
  {
   "cell_type": "markdown",
   "id": "08040418-e7cd-4042-a2b8-9782a5ad9556",
   "metadata": {},
   "source": [
    "Select all columns from the `id_map` table, limiting my results to the first five rows."
   ]
  },
  {
   "cell_type": "code",
   "execution_count": 6,
   "id": "e756c57b-b63f-4f22-8e6b-d68541a1b03c",
   "metadata": {},
   "outputs": [
    {
     "name": "stdout",
     "output_type": "stream",
     "text": [
      " * sqlite:////home/jovyan/nepal.sqlite\n",
      "Done.\n"
     ]
    },
    {
     "data": {
      "text/html": [
       "<table>\n",
       "    <thead>\n",
       "        <tr>\n",
       "            <th>household_id</th>\n",
       "            <th>building_id</th>\n",
       "            <th>vdcmun_id</th>\n",
       "            <th>district_id</th>\n",
       "        </tr>\n",
       "    </thead>\n",
       "    <tbody>\n",
       "        <tr>\n",
       "            <td>5601</td>\n",
       "            <td>56</td>\n",
       "            <td>7</td>\n",
       "            <td>1</td>\n",
       "        </tr>\n",
       "        <tr>\n",
       "            <td>6301</td>\n",
       "            <td>63</td>\n",
       "            <td>7</td>\n",
       "            <td>1</td>\n",
       "        </tr>\n",
       "        <tr>\n",
       "            <td>9701</td>\n",
       "            <td>97</td>\n",
       "            <td>7</td>\n",
       "            <td>1</td>\n",
       "        </tr>\n",
       "        <tr>\n",
       "            <td>9901</td>\n",
       "            <td>99</td>\n",
       "            <td>7</td>\n",
       "            <td>1</td>\n",
       "        </tr>\n",
       "        <tr>\n",
       "            <td>11501</td>\n",
       "            <td>115</td>\n",
       "            <td>7</td>\n",
       "            <td>1</td>\n",
       "        </tr>\n",
       "    </tbody>\n",
       "</table>"
      ],
      "text/plain": [
       "[(5601, 56, 7, 1),\n",
       " (6301, 63, 7, 1),\n",
       " (9701, 97, 7, 1),\n",
       " (9901, 99, 7, 1),\n",
       " (11501, 115, 7, 1)]"
      ]
     },
     "execution_count": 6,
     "metadata": {},
     "output_type": "execute_result"
    }
   ],
   "source": [
    "%%sql\n",
    "SELECT *\n",
    "FROM id_map\n",
    "LIMIT 5"
   ]
  },
  {
   "cell_type": "markdown",
   "id": "39e80c28-c68c-41e3-b801-b745f9439656",
   "metadata": {},
   "source": [
    "I see that the `household_id` column is in common with `household_demographics` and I can use it to join them."
   ]
  },
  {
   "cell_type": "markdown",
   "id": "27da9d87-8dcf-4eb3-8e92-8d20f33d0c7c",
   "metadata": {},
   "source": [
    "**Four-Table JOIN** "
   ]
  },
  {
   "cell_type": "code",
   "execution_count": 7,
   "id": "2d7ccb60-d23f-4e9e-8baa-77ead08ecd17",
   "metadata": {},
   "outputs": [
    {
     "name": "stdout",
     "output_type": "stream",
     "text": [
      " * sqlite:////home/jovyan/nepal.sqlite\n",
      "Done.\n"
     ]
    },
    {
     "data": {
      "text/html": [
       "<table>\n",
       "    <thead>\n",
       "        <tr>\n",
       "            <th>household_id</th>\n",
       "            <th>gender_household_head</th>\n",
       "            <th>age_household_head</th>\n",
       "            <th>caste_household</th>\n",
       "            <th>education_level_household_head</th>\n",
       "            <th>income_level_household</th>\n",
       "            <th>size_household</th>\n",
       "            <th>is_bank_account_present_in_household</th>\n",
       "        </tr>\n",
       "    </thead>\n",
       "    <tbody>\n",
       "        <tr>\n",
       "            <td>101</td>\n",
       "            <td>Male</td>\n",
       "            <td>31.0</td>\n",
       "            <td>Rai</td>\n",
       "            <td>Illiterate</td>\n",
       "            <td>Rs. 10 thousand</td>\n",
       "            <td>3.0</td>\n",
       "            <td>0.0</td>\n",
       "        </tr>\n",
       "        <tr>\n",
       "            <td>201</td>\n",
       "            <td>Female</td>\n",
       "            <td>62.0</td>\n",
       "            <td>Rai</td>\n",
       "            <td>Illiterate</td>\n",
       "            <td>Rs. 10 thousand</td>\n",
       "            <td>6.0</td>\n",
       "            <td>0.0</td>\n",
       "        </tr>\n",
       "        <tr>\n",
       "            <td>301</td>\n",
       "            <td>Male</td>\n",
       "            <td>51.0</td>\n",
       "            <td>Gharti/Bhujel</td>\n",
       "            <td>Illiterate</td>\n",
       "            <td>Rs. 10 thousand</td>\n",
       "            <td>13.0</td>\n",
       "            <td>0.0</td>\n",
       "        </tr>\n",
       "        <tr>\n",
       "            <td>401</td>\n",
       "            <td>Male</td>\n",
       "            <td>48.0</td>\n",
       "            <td>Gharti/Bhujel</td>\n",
       "            <td>Illiterate</td>\n",
       "            <td>Rs. 10 thousand</td>\n",
       "            <td>5.0</td>\n",
       "            <td>0.0</td>\n",
       "        </tr>\n",
       "        <tr>\n",
       "            <td>501</td>\n",
       "            <td>Male</td>\n",
       "            <td>70.0</td>\n",
       "            <td>Gharti/Bhujel</td>\n",
       "            <td>Illiterate</td>\n",
       "            <td>Rs. 10 thousand</td>\n",
       "            <td>8.0</td>\n",
       "            <td>0.0</td>\n",
       "        </tr>\n",
       "    </tbody>\n",
       "</table>"
      ],
      "text/plain": [
       "[(101, 'Male', 31.0, 'Rai', 'Illiterate', 'Rs. 10 thousand', 3.0, 0.0),\n",
       " (201, 'Female', 62.0, 'Rai', 'Illiterate', 'Rs. 10 thousand', 6.0, 0.0),\n",
       " (301, 'Male', 51.0, 'Gharti/Bhujel', 'Illiterate', 'Rs. 10 thousand', 13.0, 0.0),\n",
       " (401, 'Male', 48.0, 'Gharti/Bhujel', 'Illiterate', 'Rs. 10 thousand', 5.0, 0.0),\n",
       " (501, 'Male', 70.0, 'Gharti/Bhujel', 'Illiterate', 'Rs. 10 thousand', 8.0, 0.0)]"
      ]
     },
     "execution_count": 7,
     "metadata": {},
     "output_type": "execute_result"
    }
   ],
   "source": [
    "%%sql\n",
    "SELECT *\n",
    "FROM household_demographics\n",
    "LIMIT 5"
   ]
  },
  {
   "cell_type": "code",
   "execution_count": 8,
   "id": "ecfb14c6-f744-4377-847d-588e9387a03f",
   "metadata": {},
   "outputs": [
    {
     "name": "stdout",
     "output_type": "stream",
     "text": [
      " * sqlite:////home/jovyan/nepal.sqlite\n",
      "Done.\n"
     ]
    },
    {
     "data": {
      "text/html": [
       "<table>\n",
       "    <thead>\n",
       "        <tr>\n",
       "            <th>household_id</th>\n",
       "            <th>gender_household_head</th>\n",
       "            <th>age_household_head</th>\n",
       "            <th>caste_household</th>\n",
       "            <th>education_level_household_head</th>\n",
       "            <th>income_level_household</th>\n",
       "            <th>size_household</th>\n",
       "            <th>is_bank_account_present_in_household</th>\n",
       "            <th>vdcmun_id</th>\n",
       "        </tr>\n",
       "    </thead>\n",
       "    <tbody>\n",
       "        <tr>\n",
       "            <td>5601</td>\n",
       "            <td>Female</td>\n",
       "            <td>69.0</td>\n",
       "            <td>Rai</td>\n",
       "            <td>Illiterate</td>\n",
       "            <td>Rs. 10-20 thousand</td>\n",
       "            <td>6.0</td>\n",
       "            <td>1.0</td>\n",
       "            <td>7</td>\n",
       "        </tr>\n",
       "        <tr>\n",
       "            <td>6301</td>\n",
       "            <td>Male</td>\n",
       "            <td>74.0</td>\n",
       "            <td>Rai</td>\n",
       "            <td>Non-formal education</td>\n",
       "            <td>Rs. 10-20 thousand</td>\n",
       "            <td>5.0</td>\n",
       "            <td>0.0</td>\n",
       "            <td>7</td>\n",
       "        </tr>\n",
       "        <tr>\n",
       "            <td>9701</td>\n",
       "            <td>Male</td>\n",
       "            <td>28.0</td>\n",
       "            <td>Rai</td>\n",
       "            <td>SLC or equivalent</td>\n",
       "            <td>Rs. 10-20 thousand</td>\n",
       "            <td>7.0</td>\n",
       "            <td>0.0</td>\n",
       "            <td>7</td>\n",
       "        </tr>\n",
       "        <tr>\n",
       "            <td>9901</td>\n",
       "            <td>Male</td>\n",
       "            <td>51.0</td>\n",
       "            <td>Gharti/Bhujel</td>\n",
       "            <td>Non-formal education</td>\n",
       "            <td>Rs. 10 thousand</td>\n",
       "            <td>6.0</td>\n",
       "            <td>0.0</td>\n",
       "            <td>7</td>\n",
       "        </tr>\n",
       "        <tr>\n",
       "            <td>11501</td>\n",
       "            <td>Male</td>\n",
       "            <td>29.0</td>\n",
       "            <td>Brahman-Hill</td>\n",
       "            <td>Class 8</td>\n",
       "            <td>Rs. 20-30 thousand</td>\n",
       "            <td>3.0</td>\n",
       "            <td>0.0</td>\n",
       "            <td>7</td>\n",
       "        </tr>\n",
       "    </tbody>\n",
       "</table>"
      ],
      "text/plain": [
       "[(5601, 'Female', 69.0, 'Rai', 'Illiterate', 'Rs. 10-20 thousand', 6.0, 1.0, 7),\n",
       " (6301, 'Male', 74.0, 'Rai', 'Non-formal education', 'Rs. 10-20 thousand', 5.0, 0.0, 7),\n",
       " (9701, 'Male', 28.0, 'Rai', 'SLC or equivalent', 'Rs. 10-20 thousand', 7.0, 0.0, 7),\n",
       " (9901, 'Male', 51.0, 'Gharti/Bhujel', 'Non-formal education', 'Rs. 10 thousand', 6.0, 0.0, 7),\n",
       " (11501, 'Male', 29.0, 'Brahman-Hill', 'Class 8', 'Rs. 20-30 thousand', 3.0, 0.0, 7)]"
      ]
     },
     "execution_count": 8,
     "metadata": {},
     "output_type": "execute_result"
    }
   ],
   "source": [
    "%%sql\n",
    "SELECT h.*,\n",
    "       i.vdcmun_id\n",
    "FROM household_demographics AS h\n",
    "JOIN id_map AS i ON i.household_id = h.household_id\n",
    "LIMIT 5"
   ]
  },
  {
   "cell_type": "code",
   "execution_count": 9,
   "id": "bd675d91-701c-4ad2-a570-0c80a44435c9",
   "metadata": {},
   "outputs": [
    {
     "name": "stdout",
     "output_type": "stream",
     "text": [
      " * sqlite:////home/jovyan/nepal.sqlite\n",
      "Done.\n"
     ]
    },
    {
     "data": {
      "text/html": [
       "<table>\n",
       "    <thead>\n",
       "        <tr>\n",
       "            <th>household_id</th>\n",
       "            <th>gender_household_head</th>\n",
       "            <th>age_household_head</th>\n",
       "            <th>caste_household</th>\n",
       "            <th>education_level_household_head</th>\n",
       "            <th>income_level_household</th>\n",
       "            <th>size_household</th>\n",
       "            <th>is_bank_account_present_in_household</th>\n",
       "            <th>vdcmun_id</th>\n",
       "        </tr>\n",
       "    </thead>\n",
       "    <tbody>\n",
       "        <tr>\n",
       "            <td>5601</td>\n",
       "            <td>Female</td>\n",
       "            <td>69.0</td>\n",
       "            <td>Rai</td>\n",
       "            <td>Illiterate</td>\n",
       "            <td>Rs. 10-20 thousand</td>\n",
       "            <td>6.0</td>\n",
       "            <td>1.0</td>\n",
       "            <td>7</td>\n",
       "        </tr>\n",
       "        <tr>\n",
       "            <td>6301</td>\n",
       "            <td>Male</td>\n",
       "            <td>74.0</td>\n",
       "            <td>Rai</td>\n",
       "            <td>Non-formal education</td>\n",
       "            <td>Rs. 10-20 thousand</td>\n",
       "            <td>5.0</td>\n",
       "            <td>0.0</td>\n",
       "            <td>7</td>\n",
       "        </tr>\n",
       "        <tr>\n",
       "            <td>9701</td>\n",
       "            <td>Male</td>\n",
       "            <td>28.0</td>\n",
       "            <td>Rai</td>\n",
       "            <td>SLC or equivalent</td>\n",
       "            <td>Rs. 10-20 thousand</td>\n",
       "            <td>7.0</td>\n",
       "            <td>0.0</td>\n",
       "            <td>7</td>\n",
       "        </tr>\n",
       "        <tr>\n",
       "            <td>9901</td>\n",
       "            <td>Male</td>\n",
       "            <td>51.0</td>\n",
       "            <td>Gharti/Bhujel</td>\n",
       "            <td>Non-formal education</td>\n",
       "            <td>Rs. 10 thousand</td>\n",
       "            <td>6.0</td>\n",
       "            <td>0.0</td>\n",
       "            <td>7</td>\n",
       "        </tr>\n",
       "        <tr>\n",
       "            <td>11501</td>\n",
       "            <td>Male</td>\n",
       "            <td>29.0</td>\n",
       "            <td>Brahman-Hill</td>\n",
       "            <td>Class 8</td>\n",
       "            <td>Rs. 20-30 thousand</td>\n",
       "            <td>3.0</td>\n",
       "            <td>0.0</td>\n",
       "            <td>7</td>\n",
       "        </tr>\n",
       "    </tbody>\n",
       "</table>"
      ],
      "text/plain": [
       "[(5601, 'Female', 69.0, 'Rai', 'Illiterate', 'Rs. 10-20 thousand', 6.0, 1.0, 7),\n",
       " (6301, 'Male', 74.0, 'Rai', 'Non-formal education', 'Rs. 10-20 thousand', 5.0, 0.0, 7),\n",
       " (9701, 'Male', 28.0, 'Rai', 'SLC or equivalent', 'Rs. 10-20 thousand', 7.0, 0.0, 7),\n",
       " (9901, 'Male', 51.0, 'Gharti/Bhujel', 'Non-formal education', 'Rs. 10 thousand', 6.0, 0.0, 7),\n",
       " (11501, 'Male', 29.0, 'Brahman-Hill', 'Class 8', 'Rs. 20-30 thousand', 3.0, 0.0, 7)]"
      ]
     },
     "execution_count": 9,
     "metadata": {},
     "output_type": "execute_result"
    }
   ],
   "source": [
    "%%sql\n",
    "SELECT h.*,\n",
    "       i.vdcmun_id\n",
    "FROM household_demographics AS h\n",
    "JOIN id_map AS i ON i.household_id = h.household_id\n",
    "JOIN building_structure AS s ON i.building_id = s.building_id\n",
    "LIMIT 5"
   ]
  },
  {
   "cell_type": "markdown",
   "id": "18f50b46-688e-4f67-898e-86d1e3d83a3c",
   "metadata": {},
   "source": [
    "So now I want to create a table with all the columns from `household_demographics`, all the columns from `building_structure`, the **`vdcmun_id`** column from `id_map`, and the **`damage_grade`** column from `building_damage`. My results should show only rows where the **`district_id`** is `4` and I will limit my results to the first five rows."
   ]
  },
  {
   "cell_type": "code",
   "execution_count": 10,
   "id": "6d027616-876d-4bd2-8e18-eba24eccc061",
   "metadata": {},
   "outputs": [
    {
     "name": "stdout",
     "output_type": "stream",
     "text": [
      " * sqlite:////home/jovyan/nepal.sqlite\n",
      "Done.\n"
     ]
    },
    {
     "data": {
      "text/html": [
       "<table>\n",
       "    <thead>\n",
       "        <tr>\n",
       "            <th>household_id</th>\n",
       "            <th>gender_household_head</th>\n",
       "            <th>age_household_head</th>\n",
       "            <th>caste_household</th>\n",
       "            <th>education_level_household_head</th>\n",
       "            <th>income_level_household</th>\n",
       "            <th>size_household</th>\n",
       "            <th>is_bank_account_present_in_household</th>\n",
       "            <th>building_id</th>\n",
       "            <th>count_floors_pre_eq</th>\n",
       "            <th>count_floors_post_eq</th>\n",
       "            <th>age_building</th>\n",
       "            <th>plinth_area_sq_ft</th>\n",
       "            <th>height_ft_pre_eq</th>\n",
       "            <th>height_ft_post_eq</th>\n",
       "            <th>land_surface_condition</th>\n",
       "            <th>foundation_type</th>\n",
       "            <th>roof_type</th>\n",
       "            <th>ground_floor_type</th>\n",
       "            <th>other_floor_type</th>\n",
       "            <th>position</th>\n",
       "            <th>plan_configuration</th>\n",
       "            <th>condition_post_eq</th>\n",
       "            <th>superstructure</th>\n",
       "            <th>vdcmun_id</th>\n",
       "            <th>damage_grade</th>\n",
       "        </tr>\n",
       "    </thead>\n",
       "    <tbody>\n",
       "        <tr>\n",
       "            <td>16400201</td>\n",
       "            <td>Female</td>\n",
       "            <td>46.0</td>\n",
       "            <td>Chhetree</td>\n",
       "            <td>Class 5</td>\n",
       "            <td>Rs. 10-20 thousand</td>\n",
       "            <td>4.0</td>\n",
       "            <td>1.0</td>\n",
       "            <td>164002</td>\n",
       "            <td>3</td>\n",
       "            <td>3</td>\n",
       "            <td>20</td>\n",
       "            <td>560</td>\n",
       "            <td>18</td>\n",
       "            <td>18</td>\n",
       "            <td>Flat</td>\n",
       "            <td>Mud mortar-Stone/Brick</td>\n",
       "            <td>Bamboo/Timber-Light roof</td>\n",
       "            <td>Mud</td>\n",
       "            <td>TImber/Bamboo-Mud</td>\n",
       "            <td>Not attached</td>\n",
       "            <td>Rectangular</td>\n",
       "            <td>Damaged-Repaired and used</td>\n",
       "            <td>Stone, mud mortar</td>\n",
       "            <td>38</td>\n",
       "            <td>Grade 2</td>\n",
       "        </tr>\n",
       "        <tr>\n",
       "            <td>16408101</td>\n",
       "            <td>Male</td>\n",
       "            <td>66.0</td>\n",
       "            <td>Chhetree</td>\n",
       "            <td>Illiterate</td>\n",
       "            <td>Rs. 10 thousand</td>\n",
       "            <td>5.0</td>\n",
       "            <td>0.0</td>\n",
       "            <td>164081</td>\n",
       "            <td>2</td>\n",
       "            <td>2</td>\n",
       "            <td>21</td>\n",
       "            <td>200</td>\n",
       "            <td>12</td>\n",
       "            <td>12</td>\n",
       "            <td>Flat</td>\n",
       "            <td>Mud mortar-Stone/Brick</td>\n",
       "            <td>Bamboo/Timber-Light roof</td>\n",
       "            <td>Mud</td>\n",
       "            <td>TImber/Bamboo-Mud</td>\n",
       "            <td>Not attached</td>\n",
       "            <td>Rectangular</td>\n",
       "            <td>Damaged-Used in risk</td>\n",
       "            <td>Stone, mud mortar</td>\n",
       "            <td>38</td>\n",
       "            <td>Grade 2</td>\n",
       "        </tr>\n",
       "        <tr>\n",
       "            <td>16408901</td>\n",
       "            <td>Male</td>\n",
       "            <td>54.0</td>\n",
       "            <td>Magar</td>\n",
       "            <td>Class 4</td>\n",
       "            <td>Rs. 10 thousand</td>\n",
       "            <td>5.0</td>\n",
       "            <td>1.0</td>\n",
       "            <td>164089</td>\n",
       "            <td>3</td>\n",
       "            <td>3</td>\n",
       "            <td>18</td>\n",
       "            <td>315</td>\n",
       "            <td>20</td>\n",
       "            <td>20</td>\n",
       "            <td>Flat</td>\n",
       "            <td>Mud mortar-Stone/Brick</td>\n",
       "            <td>Bamboo/Timber-Light roof</td>\n",
       "            <td>Mud</td>\n",
       "            <td>TImber/Bamboo-Mud</td>\n",
       "            <td>Not attached</td>\n",
       "            <td>Rectangular</td>\n",
       "            <td>Damaged-Used in risk</td>\n",
       "            <td>Stone, mud mortar</td>\n",
       "            <td>38</td>\n",
       "            <td>Grade 2</td>\n",
       "        </tr>\n",
       "        <tr>\n",
       "            <td>16409801</td>\n",
       "            <td>Male</td>\n",
       "            <td>36.0</td>\n",
       "            <td>Chhetree</td>\n",
       "            <td>Class 5</td>\n",
       "            <td>Rs. 10 thousand</td>\n",
       "            <td>6.0</td>\n",
       "            <td>1.0</td>\n",
       "            <td>164098</td>\n",
       "            <td>2</td>\n",
       "            <td>2</td>\n",
       "            <td>45</td>\n",
       "            <td>290</td>\n",
       "            <td>13</td>\n",
       "            <td>13</td>\n",
       "            <td>Flat</td>\n",
       "            <td>Mud mortar-Stone/Brick</td>\n",
       "            <td>Bamboo/Timber-Light roof</td>\n",
       "            <td>Mud</td>\n",
       "            <td>TImber/Bamboo-Mud</td>\n",
       "            <td>Not attached</td>\n",
       "            <td>Rectangular</td>\n",
       "            <td>Damaged-Used in risk</td>\n",
       "            <td>Stone, mud mortar</td>\n",
       "            <td>38</td>\n",
       "            <td>Grade 3</td>\n",
       "        </tr>\n",
       "        <tr>\n",
       "            <td>16410301</td>\n",
       "            <td>Female</td>\n",
       "            <td>39.0</td>\n",
       "            <td>Chhetree</td>\n",
       "            <td>Class 4</td>\n",
       "            <td>Rs. 10 thousand</td>\n",
       "            <td>3.0</td>\n",
       "            <td>0.0</td>\n",
       "            <td>164103</td>\n",
       "            <td>2</td>\n",
       "            <td>2</td>\n",
       "            <td>21</td>\n",
       "            <td>230</td>\n",
       "            <td>13</td>\n",
       "            <td>13</td>\n",
       "            <td>Flat</td>\n",
       "            <td>Mud mortar-Stone/Brick</td>\n",
       "            <td>Bamboo/Timber-Light roof</td>\n",
       "            <td>Mud</td>\n",
       "            <td>TImber/Bamboo-Mud</td>\n",
       "            <td>Not attached</td>\n",
       "            <td>Rectangular</td>\n",
       "            <td>Damaged-Used in risk</td>\n",
       "            <td>Stone, mud mortar</td>\n",
       "            <td>38</td>\n",
       "            <td>Grade 3</td>\n",
       "        </tr>\n",
       "    </tbody>\n",
       "</table>"
      ],
      "text/plain": [
       "[(16400201, 'Female', 46.0, 'Chhetree', 'Class 5', 'Rs. 10-20 thousand', 4.0, 1.0, 164002, 3, 3, 20, 560, 18, 18, 'Flat', 'Mud mortar-Stone/Brick', 'Bamboo/Timber-Light roof', 'Mud', 'TImber/Bamboo-Mud', 'Not attached', 'Rectangular', 'Damaged-Repaired and used', 'Stone, mud mortar', 38, 'Grade 2'),\n",
       " (16408101, 'Male', 66.0, 'Chhetree', 'Illiterate', 'Rs. 10 thousand', 5.0, 0.0, 164081, 2, 2, 21, 200, 12, 12, 'Flat', 'Mud mortar-Stone/Brick', 'Bamboo/Timber-Light roof', 'Mud', 'TImber/Bamboo-Mud', 'Not attached', 'Rectangular', 'Damaged-Used in risk', 'Stone, mud mortar', 38, 'Grade 2'),\n",
       " (16408901, 'Male', 54.0, 'Magar', 'Class 4', 'Rs. 10 thousand', 5.0, 1.0, 164089, 3, 3, 18, 315, 20, 20, 'Flat', 'Mud mortar-Stone/Brick', 'Bamboo/Timber-Light roof', 'Mud', 'TImber/Bamboo-Mud', 'Not attached', 'Rectangular', 'Damaged-Used in risk', 'Stone, mud mortar', 38, 'Grade 2'),\n",
       " (16409801, 'Male', 36.0, 'Chhetree', 'Class 5', 'Rs. 10 thousand', 6.0, 1.0, 164098, 2, 2, 45, 290, 13, 13, 'Flat', 'Mud mortar-Stone/Brick', 'Bamboo/Timber-Light roof', 'Mud', 'TImber/Bamboo-Mud', 'Not attached', 'Rectangular', 'Damaged-Used in risk', 'Stone, mud mortar', 38, 'Grade 3'),\n",
       " (16410301, 'Female', 39.0, 'Chhetree', 'Class 4', 'Rs. 10 thousand', 3.0, 0.0, 164103, 2, 2, 21, 230, 13, 13, 'Flat', 'Mud mortar-Stone/Brick', 'Bamboo/Timber-Light roof', 'Mud', 'TImber/Bamboo-Mud', 'Not attached', 'Rectangular', 'Damaged-Used in risk', 'Stone, mud mortar', 38, 'Grade 3')]"
      ]
     },
     "execution_count": 10,
     "metadata": {},
     "output_type": "execute_result"
    }
   ],
   "source": [
    "%%sql\n",
    "SELECT h.*,\n",
    "       s.*, \n",
    "       i.vdcmun_id,\n",
    "       d.damage_grade\n",
    "FROM household_demographics AS h\n",
    "JOIN id_map AS i ON i.household_id = h.household_id\n",
    "JOIN building_structure AS s ON i.building_id = s.building_id\n",
    "JOIN building_damage AS d ON i.building_id = d.building_id\n",
    "WHERE district_id = 4     \n",
    "LIMIT 5                  "
   ]
  },
  {
   "cell_type": "markdown",
   "id": "c2c82547-144b-4aa1-89a5-93a709bda08a",
   "metadata": {},
   "source": [
    "## Import"
   ]
  },
  {
   "cell_type": "code",
   "execution_count": 11,
   "id": "0a9b483a-aa5e-435d-a202-63bdc82a1c2d",
   "metadata": {},
   "outputs": [],
   "source": [
    "# Add the query I created in the previous task to the wrangle function below\n",
    "\n",
    "def wrangle(db_path):\n",
    "    # Connect to database\n",
    "    conn = sqlite3.connect(db_path)\n",
    "\n",
    "    # Construct query\n",
    "    query = \"\"\"\n",
    "    SELECT h.*,\n",
    "       s.*, \n",
    "       i.vdcmun_id,\n",
    "       d.damage_grade\n",
    "    FROM household_demographics AS h\n",
    "    JOIN id_map AS i ON i.household_id = h.household_id\n",
    "    JOIN building_structure AS s ON i.building_id = s.building_id\n",
    "    JOIN building_damage AS d ON i.building_id = d.building_id\n",
    "    WHERE district_id = 4\n",
    "\n",
    "    \"\"\"\n",
    "\n",
    "    # Read query results into DataFrame\n",
    "    df = pd.read_sql(query, conn, index_col=\"household_id\")\n",
    "\n",
    "    # Identify leaky columns\n",
    "    drop_cols = [col for col in df.columns if \"post_eq\" in col]\n",
    "\n",
    "    # Add high-cardinality / redundant column\n",
    "    drop_cols.append(\"building_id\")\n",
    "\n",
    "    # Create binary target column\n",
    "    df[\"damage_grade\"] = df[\"damage_grade\"].str[-1].astype(int)\n",
    "    df[\"severe_damage\"] = (df[\"damage_grade\"] > 3).astype(int)\n",
    "\n",
    "    # Drop old target\n",
    "    drop_cols.append(\"damage_grade\")\n",
    "\n",
    "    # Drop multicollinearity column\n",
    "    drop_cols.append(\"count_floors_pre_eq\")\n",
    "    \n",
    "    # Drop columns\n",
    "    df.drop(columns=drop_cols, inplace=True)\n",
    "\n",
    "    return df"
   ]
  },
  {
   "cell_type": "markdown",
   "id": "e85dabf1-3ab6-4e5c-ade9-00024780c7ee",
   "metadata": {},
   "source": [
    "**Wrangle Data** "
   ]
  },
  {
   "cell_type": "code",
   "execution_count": 12,
   "id": "a37913f3-1af7-47bb-a0db-e37268b2c3b6",
   "metadata": {},
   "outputs": [
    {
     "data": {
      "text/html": [
       "<div>\n",
       "<style scoped>\n",
       "    .dataframe tbody tr th:only-of-type {\n",
       "        vertical-align: middle;\n",
       "    }\n",
       "\n",
       "    .dataframe tbody tr th {\n",
       "        vertical-align: top;\n",
       "    }\n",
       "\n",
       "    .dataframe thead th {\n",
       "        text-align: right;\n",
       "    }\n",
       "</style>\n",
       "<table border=\"1\" class=\"dataframe\">\n",
       "  <thead>\n",
       "    <tr style=\"text-align: right;\">\n",
       "      <th></th>\n",
       "      <th>gender_household_head</th>\n",
       "      <th>age_household_head</th>\n",
       "      <th>caste_household</th>\n",
       "      <th>education_level_household_head</th>\n",
       "      <th>income_level_household</th>\n",
       "      <th>size_household</th>\n",
       "      <th>is_bank_account_present_in_household</th>\n",
       "      <th>age_building</th>\n",
       "      <th>plinth_area_sq_ft</th>\n",
       "      <th>height_ft_pre_eq</th>\n",
       "      <th>land_surface_condition</th>\n",
       "      <th>foundation_type</th>\n",
       "      <th>roof_type</th>\n",
       "      <th>ground_floor_type</th>\n",
       "      <th>other_floor_type</th>\n",
       "      <th>position</th>\n",
       "      <th>plan_configuration</th>\n",
       "      <th>superstructure</th>\n",
       "      <th>vdcmun_id</th>\n",
       "      <th>severe_damage</th>\n",
       "    </tr>\n",
       "    <tr>\n",
       "      <th>household_id</th>\n",
       "      <th></th>\n",
       "      <th></th>\n",
       "      <th></th>\n",
       "      <th></th>\n",
       "      <th></th>\n",
       "      <th></th>\n",
       "      <th></th>\n",
       "      <th></th>\n",
       "      <th></th>\n",
       "      <th></th>\n",
       "      <th></th>\n",
       "      <th></th>\n",
       "      <th></th>\n",
       "      <th></th>\n",
       "      <th></th>\n",
       "      <th></th>\n",
       "      <th></th>\n",
       "      <th></th>\n",
       "      <th></th>\n",
       "      <th></th>\n",
       "    </tr>\n",
       "  </thead>\n",
       "  <tbody>\n",
       "    <tr>\n",
       "      <th>16400201</th>\n",
       "      <td>Female</td>\n",
       "      <td>46.0</td>\n",
       "      <td>Chhetree</td>\n",
       "      <td>Class 5</td>\n",
       "      <td>Rs. 10-20 thousand</td>\n",
       "      <td>4.0</td>\n",
       "      <td>1.0</td>\n",
       "      <td>20</td>\n",
       "      <td>560</td>\n",
       "      <td>18</td>\n",
       "      <td>Flat</td>\n",
       "      <td>Mud mortar-Stone/Brick</td>\n",
       "      <td>Bamboo/Timber-Light roof</td>\n",
       "      <td>Mud</td>\n",
       "      <td>TImber/Bamboo-Mud</td>\n",
       "      <td>Not attached</td>\n",
       "      <td>Rectangular</td>\n",
       "      <td>Stone, mud mortar</td>\n",
       "      <td>38</td>\n",
       "      <td>0</td>\n",
       "    </tr>\n",
       "    <tr>\n",
       "      <th>16408101</th>\n",
       "      <td>Male</td>\n",
       "      <td>66.0</td>\n",
       "      <td>Chhetree</td>\n",
       "      <td>Illiterate</td>\n",
       "      <td>Rs. 10 thousand</td>\n",
       "      <td>5.0</td>\n",
       "      <td>0.0</td>\n",
       "      <td>21</td>\n",
       "      <td>200</td>\n",
       "      <td>12</td>\n",
       "      <td>Flat</td>\n",
       "      <td>Mud mortar-Stone/Brick</td>\n",
       "      <td>Bamboo/Timber-Light roof</td>\n",
       "      <td>Mud</td>\n",
       "      <td>TImber/Bamboo-Mud</td>\n",
       "      <td>Not attached</td>\n",
       "      <td>Rectangular</td>\n",
       "      <td>Stone, mud mortar</td>\n",
       "      <td>38</td>\n",
       "      <td>0</td>\n",
       "    </tr>\n",
       "    <tr>\n",
       "      <th>16408901</th>\n",
       "      <td>Male</td>\n",
       "      <td>54.0</td>\n",
       "      <td>Magar</td>\n",
       "      <td>Class 4</td>\n",
       "      <td>Rs. 10 thousand</td>\n",
       "      <td>5.0</td>\n",
       "      <td>1.0</td>\n",
       "      <td>18</td>\n",
       "      <td>315</td>\n",
       "      <td>20</td>\n",
       "      <td>Flat</td>\n",
       "      <td>Mud mortar-Stone/Brick</td>\n",
       "      <td>Bamboo/Timber-Light roof</td>\n",
       "      <td>Mud</td>\n",
       "      <td>TImber/Bamboo-Mud</td>\n",
       "      <td>Not attached</td>\n",
       "      <td>Rectangular</td>\n",
       "      <td>Stone, mud mortar</td>\n",
       "      <td>38</td>\n",
       "      <td>0</td>\n",
       "    </tr>\n",
       "    <tr>\n",
       "      <th>16409801</th>\n",
       "      <td>Male</td>\n",
       "      <td>36.0</td>\n",
       "      <td>Chhetree</td>\n",
       "      <td>Class 5</td>\n",
       "      <td>Rs. 10 thousand</td>\n",
       "      <td>6.0</td>\n",
       "      <td>1.0</td>\n",
       "      <td>45</td>\n",
       "      <td>290</td>\n",
       "      <td>13</td>\n",
       "      <td>Flat</td>\n",
       "      <td>Mud mortar-Stone/Brick</td>\n",
       "      <td>Bamboo/Timber-Light roof</td>\n",
       "      <td>Mud</td>\n",
       "      <td>TImber/Bamboo-Mud</td>\n",
       "      <td>Not attached</td>\n",
       "      <td>Rectangular</td>\n",
       "      <td>Stone, mud mortar</td>\n",
       "      <td>38</td>\n",
       "      <td>0</td>\n",
       "    </tr>\n",
       "    <tr>\n",
       "      <th>16410301</th>\n",
       "      <td>Female</td>\n",
       "      <td>39.0</td>\n",
       "      <td>Chhetree</td>\n",
       "      <td>Class 4</td>\n",
       "      <td>Rs. 10 thousand</td>\n",
       "      <td>3.0</td>\n",
       "      <td>0.0</td>\n",
       "      <td>21</td>\n",
       "      <td>230</td>\n",
       "      <td>13</td>\n",
       "      <td>Flat</td>\n",
       "      <td>Mud mortar-Stone/Brick</td>\n",
       "      <td>Bamboo/Timber-Light roof</td>\n",
       "      <td>Mud</td>\n",
       "      <td>TImber/Bamboo-Mud</td>\n",
       "      <td>Not attached</td>\n",
       "      <td>Rectangular</td>\n",
       "      <td>Stone, mud mortar</td>\n",
       "      <td>38</td>\n",
       "      <td>0</td>\n",
       "    </tr>\n",
       "  </tbody>\n",
       "</table>\n",
       "</div>"
      ],
      "text/plain": [
       "             gender_household_head  age_household_head caste_household  \\\n",
       "household_id                                                             \n",
       "16400201                    Female                46.0        Chhetree   \n",
       "16408101                      Male                66.0        Chhetree   \n",
       "16408901                      Male                54.0           Magar   \n",
       "16409801                      Male                36.0        Chhetree   \n",
       "16410301                    Female                39.0        Chhetree   \n",
       "\n",
       "             education_level_household_head income_level_household  \\\n",
       "household_id                                                         \n",
       "16400201                            Class 5     Rs. 10-20 thousand   \n",
       "16408101                         Illiterate        Rs. 10 thousand   \n",
       "16408901                            Class 4        Rs. 10 thousand   \n",
       "16409801                            Class 5        Rs. 10 thousand   \n",
       "16410301                            Class 4        Rs. 10 thousand   \n",
       "\n",
       "              size_household  is_bank_account_present_in_household  \\\n",
       "household_id                                                         \n",
       "16400201                 4.0                                   1.0   \n",
       "16408101                 5.0                                   0.0   \n",
       "16408901                 5.0                                   1.0   \n",
       "16409801                 6.0                                   1.0   \n",
       "16410301                 3.0                                   0.0   \n",
       "\n",
       "              age_building  plinth_area_sq_ft  height_ft_pre_eq  \\\n",
       "household_id                                                      \n",
       "16400201                20                560                18   \n",
       "16408101                21                200                12   \n",
       "16408901                18                315                20   \n",
       "16409801                45                290                13   \n",
       "16410301                21                230                13   \n",
       "\n",
       "             land_surface_condition         foundation_type  \\\n",
       "household_id                                                  \n",
       "16400201                       Flat  Mud mortar-Stone/Brick   \n",
       "16408101                       Flat  Mud mortar-Stone/Brick   \n",
       "16408901                       Flat  Mud mortar-Stone/Brick   \n",
       "16409801                       Flat  Mud mortar-Stone/Brick   \n",
       "16410301                       Flat  Mud mortar-Stone/Brick   \n",
       "\n",
       "                             roof_type ground_floor_type   other_floor_type  \\\n",
       "household_id                                                                  \n",
       "16400201      Bamboo/Timber-Light roof               Mud  TImber/Bamboo-Mud   \n",
       "16408101      Bamboo/Timber-Light roof               Mud  TImber/Bamboo-Mud   \n",
       "16408901      Bamboo/Timber-Light roof               Mud  TImber/Bamboo-Mud   \n",
       "16409801      Bamboo/Timber-Light roof               Mud  TImber/Bamboo-Mud   \n",
       "16410301      Bamboo/Timber-Light roof               Mud  TImber/Bamboo-Mud   \n",
       "\n",
       "                  position plan_configuration     superstructure  vdcmun_id  \\\n",
       "household_id                                                                  \n",
       "16400201      Not attached        Rectangular  Stone, mud mortar         38   \n",
       "16408101      Not attached        Rectangular  Stone, mud mortar         38   \n",
       "16408901      Not attached        Rectangular  Stone, mud mortar         38   \n",
       "16409801      Not attached        Rectangular  Stone, mud mortar         38   \n",
       "16410301      Not attached        Rectangular  Stone, mud mortar         38   \n",
       "\n",
       "              severe_damage  \n",
       "household_id                 \n",
       "16400201                  0  \n",
       "16408101                  0  \n",
       "16408901                  0  \n",
       "16409801                  0  \n",
       "16410301                  0  "
      ]
     },
     "execution_count": 12,
     "metadata": {},
     "output_type": "execute_result"
    }
   ],
   "source": [
    "df = wrangle(\"/home/jovyan/nepal.sqlite\")\n",
    "df.head()"
   ]
  },
  {
   "cell_type": "markdown",
   "id": "63f56f00-00ff-463d-a285-8bee74e2a153",
   "metadata": {},
   "source": [
    "## Explore"
   ]
  },
  {
   "cell_type": "markdown",
   "id": "75dba89e-1e43-47cb-9a1b-11387eaeb009",
   "metadata": {},
   "source": [
    "**High-Cardinality Features** "
   ]
  },
  {
   "cell_type": "code",
   "execution_count": 13,
   "id": "3011d8e5-34d2-4032-9f56-ea1dc0ca6a38",
   "metadata": {},
   "outputs": [
    {
     "data": {
      "text/plain": [
       "gender_household_head              2\n",
       "caste_household                   63\n",
       "education_level_household_head    19\n",
       "income_level_household             5\n",
       "land_surface_condition             3\n",
       "foundation_type                    5\n",
       "roof_type                          3\n",
       "ground_floor_type                  5\n",
       "other_floor_type                   4\n",
       "position                           4\n",
       "plan_configuration                10\n",
       "superstructure                    11\n",
       "dtype: int64"
      ]
     },
     "execution_count": 13,
     "metadata": {},
     "output_type": "execute_result"
    }
   ],
   "source": [
    "# Combine the select_dtypes and nunique methods to see if there are any high- or low-cardinality categorical features in the dataset\n",
    "df.select_dtypes(\"object\").nunique()"
   ]
  },
  {
   "cell_type": "markdown",
   "id": "4ea228b1-0dc1-4a67-b2b1-789d04a48393",
   "metadata": {},
   "source": [
    "**Group Categorical Feature** "
   ]
  },
  {
   "cell_type": "code",
   "execution_count": 14,
   "id": "d3338b6e-6466-411f-bab2-cf0b5ddba127",
   "metadata": {},
   "outputs": [
    {
     "data": {
      "text/plain": [
       "Index(['Gurung', 'Brahman-Hill', 'Chhetree', 'Magar', 'Sarki', 'Newar', 'Kami',\n",
       "       'Tamang', 'Kumal', 'Damai/Dholi'],\n",
       "      dtype='object')"
      ]
     },
     "execution_count": 14,
     "metadata": {},
     "output_type": "execute_result"
    }
   ],
   "source": [
    "top_10 = df[\"caste_household\"].value_counts().head(10).index\n",
    "top_10"
   ]
  },
  {
   "cell_type": "code",
   "execution_count": 15,
   "id": "6597f644-d990-4534-bfc8-dd06b4fe08e8",
   "metadata": {},
   "outputs": [
    {
     "data": {
      "text/plain": [
       "63"
      ]
     },
     "execution_count": 15,
     "metadata": {},
     "output_type": "execute_result"
    }
   ],
   "source": [
    "df[\"caste_household\"].nunique()"
   ]
  },
  {
   "cell_type": "code",
   "execution_count": 16,
   "id": "32c87895-d868-46dc-8e11-ddbfa64a0dc3",
   "metadata": {},
   "outputs": [
    {
     "data": {
      "text/plain": [
       "Gurung          15119\n",
       "Brahman-Hill    13043\n",
       "Chhetree         8766\n",
       "Magar            8180\n",
       "Sarki            6052\n",
       "Newar            5906\n",
       "Kami             3565\n",
       "Tamang           2396\n",
       "Kumal            2271\n",
       "Damai/Dholi      1977\n",
       "Name: caste_household, dtype: int64"
      ]
     },
     "execution_count": 16,
     "metadata": {},
     "output_type": "execute_result"
    }
   ],
   "source": [
    "df[\"caste_household\"].value_counts().head(10)"
   ]
  },
  {
   "cell_type": "code",
   "execution_count": 17,
   "id": "9532e17f-d7f1-4a54-86b5-8b5679d2d184",
   "metadata": {},
   "outputs": [
    {
     "data": {
      "text/plain": [
       "Kewat            2\n",
       "Thakali          2\n",
       "Hajam/Thakur     2\n",
       "Kayastha         1\n",
       "Satar/Santhal    1\n",
       "Byasi/Sauka      1\n",
       "Kalar            1\n",
       "Dhimal           1\n",
       "Kalwar           1\n",
       "Hyolmo           1\n",
       "Name: caste_household, dtype: int64"
      ]
     },
     "execution_count": 17,
     "metadata": {},
     "output_type": "execute_result"
    }
   ],
   "source": [
    "df[\"caste_household\"].value_counts().tail(10)"
   ]
  },
  {
   "cell_type": "code",
   "execution_count": 18,
   "id": "d5f0e777-cbe8-4e15-9598-c99d3e89ff14",
   "metadata": {},
   "outputs": [
    {
     "data": {
      "text/plain": [
       "Thami            2\n",
       "Teli             2\n",
       "Kanu             2\n",
       "Dhanuk           2\n",
       "Rajbansi         2\n",
       "Kewat            2\n",
       "Thakali          2\n",
       "Hajam/Thakur     2\n",
       "Kayastha         1\n",
       "Satar/Santhal    1\n",
       "Byasi/Sauka      1\n",
       "Kalar            1\n",
       "Dhimal           1\n",
       "Kalwar           1\n",
       "Hyolmo           1\n",
       "Name: caste_household, dtype: int64"
      ]
     },
     "execution_count": 18,
     "metadata": {},
     "output_type": "execute_result"
    }
   ],
   "source": [
    "df[\"caste_household\"].value_counts().tail(15)"
   ]
  },
  {
   "cell_type": "code",
   "execution_count": 19,
   "id": "e78cc149-31bb-4793-9762-35dee9a7b0bf",
   "metadata": {},
   "outputs": [
    {
     "data": {
      "text/plain": [
       "Index(['Gurung', 'Brahman-Hill', 'Chhetree', 'Magar', 'Sarki', 'Newar', 'Kami',\n",
       "       'Tamang', 'Kumal', 'Damai/Dholi'],\n",
       "      dtype='object')"
      ]
     },
     "execution_count": 19,
     "metadata": {},
     "output_type": "execute_result"
    }
   ],
   "source": [
    "df[\"caste_household\"].value_counts().head(10).index"
   ]
  },
  {
   "cell_type": "code",
   "execution_count": 20,
   "id": "49bab68b-bf07-4a9e-8354-9be1c174e05e",
   "metadata": {},
   "outputs": [
    {
     "data": {
      "text/plain": [
       "Index(['Gurung', 'Brahman-Hill', 'Chhetree', 'Magar', 'Sarki', 'Newar', 'Kami',\n",
       "       'Tamang', 'Kumal', 'Damai/Dholi'],\n",
       "      dtype='object')"
      ]
     },
     "execution_count": 20,
     "metadata": {},
     "output_type": "execute_result"
    }
   ],
   "source": [
    "top_10 = df[\"caste_household\"].value_counts().head(10).index\n",
    "top_10"
   ]
  },
  {
   "cell_type": "code",
   "execution_count": 21,
   "id": "24b55d15-fec1-4fb7-abfc-dba19e9d152d",
   "metadata": {},
   "outputs": [
    {
     "data": {
      "text/plain": [
       "household_id\n",
       "16400201    Chhetree\n",
       "16408101    Chhetree\n",
       "16408901       Magar\n",
       "16409801    Chhetree\n",
       "16410301    Chhetree\n",
       "              ...   \n",
       "23477401       Other\n",
       "23480801       Other\n",
       "23482101       Other\n",
       "23482801       Other\n",
       "23483501       Other\n",
       "Name: caste_household, Length: 75883, dtype: object"
      ]
     },
     "execution_count": 21,
     "metadata": {},
     "output_type": "execute_result"
    }
   ],
   "source": [
    "df[\"caste_household\"].apply(lambda c: c if c in top_10 else \"Other\")"
   ]
  },
  {
   "cell_type": "code",
   "execution_count": 22,
   "id": "6bf4ee2e-90cd-4e74-8a3e-898a5b83f2ba",
   "metadata": {},
   "outputs": [
    {
     "data": {
      "text/plain": [
       "Gurung          15119\n",
       "Brahman-Hill    13043\n",
       "Chhetree         8766\n",
       "Other            8608\n",
       "Magar            8180\n",
       "Sarki            6052\n",
       "Newar            5906\n",
       "Kami             3565\n",
       "Tamang           2396\n",
       "Kumal            2271\n",
       "Damai/Dholi      1977\n",
       "Name: caste_household, dtype: int64"
      ]
     },
     "execution_count": 22,
     "metadata": {},
     "output_type": "execute_result"
    }
   ],
   "source": [
    "df[\"caste_household\"].apply(lambda c: c if c in top_10 else \"Other\").value_counts()"
   ]
  },
  {
   "cell_type": "code",
   "execution_count": 23,
   "id": "4a4ace94-bba7-4d08-9e54-43938f29ec90",
   "metadata": {},
   "outputs": [],
   "source": [
    "# Add to my wrangle function so that the \"caste_household\" contains only the 10 largest caste groups\n",
    "\n",
    "def wrangle(db_path):\n",
    "    # Connect to database\n",
    "    conn = sqlite3.connect(db_path)\n",
    "\n",
    "    # Construct query\n",
    "    query = \"\"\"\n",
    "    SELECT h.*,\n",
    "       s.*, \n",
    "       i.vdcmun_id,\n",
    "       d.damage_grade\n",
    "    FROM household_demographics AS h\n",
    "    JOIN id_map AS i ON i.household_id = h.household_id\n",
    "    JOIN building_structure AS s ON i.building_id = s.building_id\n",
    "    JOIN building_damage AS d ON i.building_id = d.building_id\n",
    "    WHERE district_id = 4\n",
    "\n",
    "    \"\"\"\n",
    "\n",
    "    # Read query results into DataFrame\n",
    "    df = pd.read_sql(query, conn, index_col=\"household_id\")\n",
    "\n",
    "    # Identify leaky columns\n",
    "    drop_cols = [col for col in df.columns if \"post_eq\" in col]\n",
    "\n",
    "    # Add high-cardinality / redundant column\n",
    "    drop_cols.append(\"building_id\")\n",
    "\n",
    "    # Create binary target column\n",
    "    df[\"damage_grade\"] = df[\"damage_grade\"].str[-1].astype(int)\n",
    "    df[\"severe_damage\"] = (df[\"damage_grade\"] > 3).astype(int)\n",
    "\n",
    "    # Drop old target\n",
    "    drop_cols.append(\"damage_grade\")\n",
    "\n",
    "    # Drop multicollinearity column\n",
    "    drop_cols.append(\"count_floors_pre_eq\")\n",
    "    \n",
    "    # Group caste column       \n",
    "    top_10 = df[\"caste_household\"].value_counts().head(10).index   \n",
    "\n",
    "    df[\"caste_household\"] = df[\"caste_household\"].apply(         # For the rows that are not in those groups, \"caste_household\" should be changed to \"Other\"\n",
    "        lambda c: c if c in top_10 else \"Other\"\n",
    "    )\n",
    "    \n",
    "    # Drop columns\n",
    "    df.drop(columns=drop_cols, inplace=True)\n",
    "\n",
    "    return df"
   ]
  },
  {
   "cell_type": "code",
   "execution_count": 24,
   "id": "eec4ff8d-4658-4f4b-a7d3-3b9b7a689b5a",
   "metadata": {},
   "outputs": [
    {
     "data": {
      "text/html": [
       "<div>\n",
       "<style scoped>\n",
       "    .dataframe tbody tr th:only-of-type {\n",
       "        vertical-align: middle;\n",
       "    }\n",
       "\n",
       "    .dataframe tbody tr th {\n",
       "        vertical-align: top;\n",
       "    }\n",
       "\n",
       "    .dataframe thead th {\n",
       "        text-align: right;\n",
       "    }\n",
       "</style>\n",
       "<table border=\"1\" class=\"dataframe\">\n",
       "  <thead>\n",
       "    <tr style=\"text-align: right;\">\n",
       "      <th></th>\n",
       "      <th>gender_household_head</th>\n",
       "      <th>age_household_head</th>\n",
       "      <th>caste_household</th>\n",
       "      <th>education_level_household_head</th>\n",
       "      <th>income_level_household</th>\n",
       "      <th>size_household</th>\n",
       "      <th>is_bank_account_present_in_household</th>\n",
       "      <th>age_building</th>\n",
       "      <th>plinth_area_sq_ft</th>\n",
       "      <th>height_ft_pre_eq</th>\n",
       "      <th>land_surface_condition</th>\n",
       "      <th>foundation_type</th>\n",
       "      <th>roof_type</th>\n",
       "      <th>ground_floor_type</th>\n",
       "      <th>other_floor_type</th>\n",
       "      <th>position</th>\n",
       "      <th>plan_configuration</th>\n",
       "      <th>superstructure</th>\n",
       "      <th>vdcmun_id</th>\n",
       "      <th>severe_damage</th>\n",
       "    </tr>\n",
       "    <tr>\n",
       "      <th>household_id</th>\n",
       "      <th></th>\n",
       "      <th></th>\n",
       "      <th></th>\n",
       "      <th></th>\n",
       "      <th></th>\n",
       "      <th></th>\n",
       "      <th></th>\n",
       "      <th></th>\n",
       "      <th></th>\n",
       "      <th></th>\n",
       "      <th></th>\n",
       "      <th></th>\n",
       "      <th></th>\n",
       "      <th></th>\n",
       "      <th></th>\n",
       "      <th></th>\n",
       "      <th></th>\n",
       "      <th></th>\n",
       "      <th></th>\n",
       "      <th></th>\n",
       "    </tr>\n",
       "  </thead>\n",
       "  <tbody>\n",
       "    <tr>\n",
       "      <th>16400201</th>\n",
       "      <td>Female</td>\n",
       "      <td>46.0</td>\n",
       "      <td>Chhetree</td>\n",
       "      <td>Class 5</td>\n",
       "      <td>Rs. 10-20 thousand</td>\n",
       "      <td>4.0</td>\n",
       "      <td>1.0</td>\n",
       "      <td>20</td>\n",
       "      <td>560</td>\n",
       "      <td>18</td>\n",
       "      <td>Flat</td>\n",
       "      <td>Mud mortar-Stone/Brick</td>\n",
       "      <td>Bamboo/Timber-Light roof</td>\n",
       "      <td>Mud</td>\n",
       "      <td>TImber/Bamboo-Mud</td>\n",
       "      <td>Not attached</td>\n",
       "      <td>Rectangular</td>\n",
       "      <td>Stone, mud mortar</td>\n",
       "      <td>38</td>\n",
       "      <td>0</td>\n",
       "    </tr>\n",
       "    <tr>\n",
       "      <th>16408101</th>\n",
       "      <td>Male</td>\n",
       "      <td>66.0</td>\n",
       "      <td>Chhetree</td>\n",
       "      <td>Illiterate</td>\n",
       "      <td>Rs. 10 thousand</td>\n",
       "      <td>5.0</td>\n",
       "      <td>0.0</td>\n",
       "      <td>21</td>\n",
       "      <td>200</td>\n",
       "      <td>12</td>\n",
       "      <td>Flat</td>\n",
       "      <td>Mud mortar-Stone/Brick</td>\n",
       "      <td>Bamboo/Timber-Light roof</td>\n",
       "      <td>Mud</td>\n",
       "      <td>TImber/Bamboo-Mud</td>\n",
       "      <td>Not attached</td>\n",
       "      <td>Rectangular</td>\n",
       "      <td>Stone, mud mortar</td>\n",
       "      <td>38</td>\n",
       "      <td>0</td>\n",
       "    </tr>\n",
       "    <tr>\n",
       "      <th>16408901</th>\n",
       "      <td>Male</td>\n",
       "      <td>54.0</td>\n",
       "      <td>Magar</td>\n",
       "      <td>Class 4</td>\n",
       "      <td>Rs. 10 thousand</td>\n",
       "      <td>5.0</td>\n",
       "      <td>1.0</td>\n",
       "      <td>18</td>\n",
       "      <td>315</td>\n",
       "      <td>20</td>\n",
       "      <td>Flat</td>\n",
       "      <td>Mud mortar-Stone/Brick</td>\n",
       "      <td>Bamboo/Timber-Light roof</td>\n",
       "      <td>Mud</td>\n",
       "      <td>TImber/Bamboo-Mud</td>\n",
       "      <td>Not attached</td>\n",
       "      <td>Rectangular</td>\n",
       "      <td>Stone, mud mortar</td>\n",
       "      <td>38</td>\n",
       "      <td>0</td>\n",
       "    </tr>\n",
       "    <tr>\n",
       "      <th>16409801</th>\n",
       "      <td>Male</td>\n",
       "      <td>36.0</td>\n",
       "      <td>Chhetree</td>\n",
       "      <td>Class 5</td>\n",
       "      <td>Rs. 10 thousand</td>\n",
       "      <td>6.0</td>\n",
       "      <td>1.0</td>\n",
       "      <td>45</td>\n",
       "      <td>290</td>\n",
       "      <td>13</td>\n",
       "      <td>Flat</td>\n",
       "      <td>Mud mortar-Stone/Brick</td>\n",
       "      <td>Bamboo/Timber-Light roof</td>\n",
       "      <td>Mud</td>\n",
       "      <td>TImber/Bamboo-Mud</td>\n",
       "      <td>Not attached</td>\n",
       "      <td>Rectangular</td>\n",
       "      <td>Stone, mud mortar</td>\n",
       "      <td>38</td>\n",
       "      <td>0</td>\n",
       "    </tr>\n",
       "    <tr>\n",
       "      <th>16410301</th>\n",
       "      <td>Female</td>\n",
       "      <td>39.0</td>\n",
       "      <td>Chhetree</td>\n",
       "      <td>Class 4</td>\n",
       "      <td>Rs. 10 thousand</td>\n",
       "      <td>3.0</td>\n",
       "      <td>0.0</td>\n",
       "      <td>21</td>\n",
       "      <td>230</td>\n",
       "      <td>13</td>\n",
       "      <td>Flat</td>\n",
       "      <td>Mud mortar-Stone/Brick</td>\n",
       "      <td>Bamboo/Timber-Light roof</td>\n",
       "      <td>Mud</td>\n",
       "      <td>TImber/Bamboo-Mud</td>\n",
       "      <td>Not attached</td>\n",
       "      <td>Rectangular</td>\n",
       "      <td>Stone, mud mortar</td>\n",
       "      <td>38</td>\n",
       "      <td>0</td>\n",
       "    </tr>\n",
       "  </tbody>\n",
       "</table>\n",
       "</div>"
      ],
      "text/plain": [
       "             gender_household_head  age_household_head caste_household  \\\n",
       "household_id                                                             \n",
       "16400201                    Female                46.0        Chhetree   \n",
       "16408101                      Male                66.0        Chhetree   \n",
       "16408901                      Male                54.0           Magar   \n",
       "16409801                      Male                36.0        Chhetree   \n",
       "16410301                    Female                39.0        Chhetree   \n",
       "\n",
       "             education_level_household_head income_level_household  \\\n",
       "household_id                                                         \n",
       "16400201                            Class 5     Rs. 10-20 thousand   \n",
       "16408101                         Illiterate        Rs. 10 thousand   \n",
       "16408901                            Class 4        Rs. 10 thousand   \n",
       "16409801                            Class 5        Rs. 10 thousand   \n",
       "16410301                            Class 4        Rs. 10 thousand   \n",
       "\n",
       "              size_household  is_bank_account_present_in_household  \\\n",
       "household_id                                                         \n",
       "16400201                 4.0                                   1.0   \n",
       "16408101                 5.0                                   0.0   \n",
       "16408901                 5.0                                   1.0   \n",
       "16409801                 6.0                                   1.0   \n",
       "16410301                 3.0                                   0.0   \n",
       "\n",
       "              age_building  plinth_area_sq_ft  height_ft_pre_eq  \\\n",
       "household_id                                                      \n",
       "16400201                20                560                18   \n",
       "16408101                21                200                12   \n",
       "16408901                18                315                20   \n",
       "16409801                45                290                13   \n",
       "16410301                21                230                13   \n",
       "\n",
       "             land_surface_condition         foundation_type  \\\n",
       "household_id                                                  \n",
       "16400201                       Flat  Mud mortar-Stone/Brick   \n",
       "16408101                       Flat  Mud mortar-Stone/Brick   \n",
       "16408901                       Flat  Mud mortar-Stone/Brick   \n",
       "16409801                       Flat  Mud mortar-Stone/Brick   \n",
       "16410301                       Flat  Mud mortar-Stone/Brick   \n",
       "\n",
       "                             roof_type ground_floor_type   other_floor_type  \\\n",
       "household_id                                                                  \n",
       "16400201      Bamboo/Timber-Light roof               Mud  TImber/Bamboo-Mud   \n",
       "16408101      Bamboo/Timber-Light roof               Mud  TImber/Bamboo-Mud   \n",
       "16408901      Bamboo/Timber-Light roof               Mud  TImber/Bamboo-Mud   \n",
       "16409801      Bamboo/Timber-Light roof               Mud  TImber/Bamboo-Mud   \n",
       "16410301      Bamboo/Timber-Light roof               Mud  TImber/Bamboo-Mud   \n",
       "\n",
       "                  position plan_configuration     superstructure  vdcmun_id  \\\n",
       "household_id                                                                  \n",
       "16400201      Not attached        Rectangular  Stone, mud mortar         38   \n",
       "16408101      Not attached        Rectangular  Stone, mud mortar         38   \n",
       "16408901      Not attached        Rectangular  Stone, mud mortar         38   \n",
       "16409801      Not attached        Rectangular  Stone, mud mortar         38   \n",
       "16410301      Not attached        Rectangular  Stone, mud mortar         38   \n",
       "\n",
       "              severe_damage  \n",
       "household_id                 \n",
       "16400201                  0  \n",
       "16408101                  0  \n",
       "16408901                  0  \n",
       "16409801                  0  \n",
       "16410301                  0  "
      ]
     },
     "execution_count": 24,
     "metadata": {},
     "output_type": "execute_result"
    }
   ],
   "source": [
    "df = wrangle(\"/home/jovyan/nepal.sqlite\")\n",
    "df.head()"
   ]
  },
  {
   "cell_type": "code",
   "execution_count": 25,
   "id": "cf61e2e5-5f0b-42d7-9cea-6954b1845d5b",
   "metadata": {},
   "outputs": [
    {
     "data": {
      "text/plain": [
       "gender_household_head              2\n",
       "caste_household                   11\n",
       "education_level_household_head    19\n",
       "income_level_household             5\n",
       "land_surface_condition             3\n",
       "foundation_type                    5\n",
       "roof_type                          3\n",
       "ground_floor_type                  5\n",
       "other_floor_type                   4\n",
       "position                           4\n",
       "plan_configuration                10\n",
       "superstructure                    11\n",
       "dtype: int64"
      ]
     },
     "execution_count": 25,
     "metadata": {},
     "output_type": "execute_result"
    }
   ],
   "source": [
    "df.select_dtypes(\"object\").nunique()"
   ]
  },
  {
   "cell_type": "markdown",
   "id": "450abfa3-2589-4758-93b4-8ebf471f561e",
   "metadata": {},
   "source": [
    "## Split"
   ]
  },
  {
   "cell_type": "markdown",
   "id": "8b521374-26b7-4466-a085-24a4214f0ea9",
   "metadata": {},
   "source": [
    "**Vertical Split** "
   ]
  },
  {
   "cell_type": "markdown",
   "id": "786bbf0c-35db-4084-b7af-cc62aacac0f2",
   "metadata": {},
   "source": [
    "Now I can create my feature matrix `X` and target vector `y`. Since my model will only consider building and household data, `X` should not include the municipality column `\"vdcmun_id\"`. My target is `\"severe_damage\"`. "
   ]
  },
  {
   "cell_type": "code",
   "execution_count": 26,
   "id": "b879e3c3-004e-4f14-a014-2ccaf0c7baaf",
   "metadata": {},
   "outputs": [],
   "source": [
    "target = \"severe_damage\"\n",
    "X = df.drop(columns=[target, \"vdcmun_id\"])\n",
    "y = df[target]"
   ]
  },
  {
   "cell_type": "code",
   "execution_count": 27,
   "id": "62213131-fe23-4f0a-9297-19a98c5b0852",
   "metadata": {},
   "outputs": [],
   "source": [
    "# Divide my data (X and y) into training and test sets using a randomized train-test split\n",
    "X_train, X_test, y_train, y_test = train_test_split(\n",
    "    X, y, test_size=0.2, random_state=42             # My test set should be 20% of my total data & set a random_state for reproducibility\n",
    ")"
   ]
  },
  {
   "cell_type": "markdown",
   "id": "77b439a8-5241-46c5-9870-ce2764648778",
   "metadata": {},
   "source": [
    "# Build Model"
   ]
  },
  {
   "cell_type": "markdown",
   "id": "2c43a706-513c-4fd3-95ef-eeec70327e51",
   "metadata": {},
   "source": [
    "## Baseline"
   ]
  },
  {
   "cell_type": "code",
   "execution_count": 28,
   "id": "47e9e0de-e4f6-4c73-9036-8bb23a7d58e7",
   "metadata": {},
   "outputs": [
    {
     "name": "stdout",
     "output_type": "stream",
     "text": [
      "Baseline Accuracy: 0.63\n"
     ]
    }
   ],
   "source": [
    "# Calculate the baseline accuracy score for my model\n",
    "acc_baseline = y_train.value_counts(normalize=True).max()\n",
    "print(\"Baseline Accuracy:\", round(acc_baseline, 2))"
   ]
  },
  {
   "cell_type": "markdown",
   "id": "f5a42994-51ed-422e-a0d9-77392c23ef77",
   "metadata": {},
   "source": [
    "## Iterate"
   ]
  },
  {
   "cell_type": "code",
   "execution_count": 29,
   "id": "217ca163-cd51-4805-af94-656c4b9842a9",
   "metadata": {},
   "outputs": [
    {
     "data": {
      "text/html": [
       "<style>#sk-container-id-1 {color: black;background-color: white;}#sk-container-id-1 pre{padding: 0;}#sk-container-id-1 div.sk-toggleable {background-color: white;}#sk-container-id-1 label.sk-toggleable__label {cursor: pointer;display: block;width: 100%;margin-bottom: 0;padding: 0.3em;box-sizing: border-box;text-align: center;}#sk-container-id-1 label.sk-toggleable__label-arrow:before {content: \"▸\";float: left;margin-right: 0.25em;color: #696969;}#sk-container-id-1 label.sk-toggleable__label-arrow:hover:before {color: black;}#sk-container-id-1 div.sk-estimator:hover label.sk-toggleable__label-arrow:before {color: black;}#sk-container-id-1 div.sk-toggleable__content {max-height: 0;max-width: 0;overflow: hidden;text-align: left;background-color: #f0f8ff;}#sk-container-id-1 div.sk-toggleable__content pre {margin: 0.2em;color: black;border-radius: 0.25em;background-color: #f0f8ff;}#sk-container-id-1 input.sk-toggleable__control:checked~div.sk-toggleable__content {max-height: 200px;max-width: 100%;overflow: auto;}#sk-container-id-1 input.sk-toggleable__control:checked~label.sk-toggleable__label-arrow:before {content: \"▾\";}#sk-container-id-1 div.sk-estimator input.sk-toggleable__control:checked~label.sk-toggleable__label {background-color: #d4ebff;}#sk-container-id-1 div.sk-label input.sk-toggleable__control:checked~label.sk-toggleable__label {background-color: #d4ebff;}#sk-container-id-1 input.sk-hidden--visually {border: 0;clip: rect(1px 1px 1px 1px);clip: rect(1px, 1px, 1px, 1px);height: 1px;margin: -1px;overflow: hidden;padding: 0;position: absolute;width: 1px;}#sk-container-id-1 div.sk-estimator {font-family: monospace;background-color: #f0f8ff;border: 1px dotted black;border-radius: 0.25em;box-sizing: border-box;margin-bottom: 0.5em;}#sk-container-id-1 div.sk-estimator:hover {background-color: #d4ebff;}#sk-container-id-1 div.sk-parallel-item::after {content: \"\";width: 100%;border-bottom: 1px solid gray;flex-grow: 1;}#sk-container-id-1 div.sk-label:hover label.sk-toggleable__label {background-color: #d4ebff;}#sk-container-id-1 div.sk-serial::before {content: \"\";position: absolute;border-left: 1px solid gray;box-sizing: border-box;top: 0;bottom: 0;left: 50%;z-index: 0;}#sk-container-id-1 div.sk-serial {display: flex;flex-direction: column;align-items: center;background-color: white;padding-right: 0.2em;padding-left: 0.2em;position: relative;}#sk-container-id-1 div.sk-item {position: relative;z-index: 1;}#sk-container-id-1 div.sk-parallel {display: flex;align-items: stretch;justify-content: center;background-color: white;position: relative;}#sk-container-id-1 div.sk-item::before, #sk-container-id-1 div.sk-parallel-item::before {content: \"\";position: absolute;border-left: 1px solid gray;box-sizing: border-box;top: 0;bottom: 0;left: 50%;z-index: -1;}#sk-container-id-1 div.sk-parallel-item {display: flex;flex-direction: column;z-index: 1;position: relative;background-color: white;}#sk-container-id-1 div.sk-parallel-item:first-child::after {align-self: flex-end;width: 50%;}#sk-container-id-1 div.sk-parallel-item:last-child::after {align-self: flex-start;width: 50%;}#sk-container-id-1 div.sk-parallel-item:only-child::after {width: 0;}#sk-container-id-1 div.sk-dashed-wrapped {border: 1px dashed gray;margin: 0 0.4em 0.5em 0.4em;box-sizing: border-box;padding-bottom: 0.4em;background-color: white;}#sk-container-id-1 div.sk-label label {font-family: monospace;font-weight: bold;display: inline-block;line-height: 1.2em;}#sk-container-id-1 div.sk-label-container {text-align: center;}#sk-container-id-1 div.sk-container {/* jupyter's `normalize.less` sets `[hidden] { display: none; }` but bootstrap.min.css set `[hidden] { display: none !important; }` so we also need the `!important` here to be able to override the default hidden behavior on the sphinx rendered scikit-learn.org. See: https://github.com/scikit-learn/scikit-learn/issues/21755 */display: inline-block !important;position: relative;}#sk-container-id-1 div.sk-text-repr-fallback {display: none;}</style><div id=\"sk-container-id-1\" class=\"sk-top-container\"><div class=\"sk-text-repr-fallback\"><pre>Pipeline(steps=[(&#x27;onehotencoder&#x27;,\n",
       "                 OneHotEncoder(cols=[&#x27;gender_household_head&#x27;, &#x27;caste_household&#x27;,\n",
       "                                     &#x27;education_level_household_head&#x27;,\n",
       "                                     &#x27;income_level_household&#x27;,\n",
       "                                     &#x27;land_surface_condition&#x27;,\n",
       "                                     &#x27;foundation_type&#x27;, &#x27;roof_type&#x27;,\n",
       "                                     &#x27;ground_floor_type&#x27;, &#x27;other_floor_type&#x27;,\n",
       "                                     &#x27;position&#x27;, &#x27;plan_configuration&#x27;,\n",
       "                                     &#x27;superstructure&#x27;],\n",
       "                               use_cat_names=True)),\n",
       "                (&#x27;logisticregression&#x27;, LogisticRegression(max_iter=3000))])</pre><b>In a Jupyter environment, please rerun this cell to show the HTML representation or trust the notebook. <br />On GitHub, the HTML representation is unable to render, please try loading this page with nbviewer.org.</b></div><div class=\"sk-container\" hidden><div class=\"sk-item sk-dashed-wrapped\"><div class=\"sk-label-container\"><div class=\"sk-label sk-toggleable\"><input class=\"sk-toggleable__control sk-hidden--visually\" id=\"sk-estimator-id-1\" type=\"checkbox\" ><label for=\"sk-estimator-id-1\" class=\"sk-toggleable__label sk-toggleable__label-arrow\">Pipeline</label><div class=\"sk-toggleable__content\"><pre>Pipeline(steps=[(&#x27;onehotencoder&#x27;,\n",
       "                 OneHotEncoder(cols=[&#x27;gender_household_head&#x27;, &#x27;caste_household&#x27;,\n",
       "                                     &#x27;education_level_household_head&#x27;,\n",
       "                                     &#x27;income_level_household&#x27;,\n",
       "                                     &#x27;land_surface_condition&#x27;,\n",
       "                                     &#x27;foundation_type&#x27;, &#x27;roof_type&#x27;,\n",
       "                                     &#x27;ground_floor_type&#x27;, &#x27;other_floor_type&#x27;,\n",
       "                                     &#x27;position&#x27;, &#x27;plan_configuration&#x27;,\n",
       "                                     &#x27;superstructure&#x27;],\n",
       "                               use_cat_names=True)),\n",
       "                (&#x27;logisticregression&#x27;, LogisticRegression(max_iter=3000))])</pre></div></div></div><div class=\"sk-serial\"><div class=\"sk-item\"><div class=\"sk-estimator sk-toggleable\"><input class=\"sk-toggleable__control sk-hidden--visually\" id=\"sk-estimator-id-2\" type=\"checkbox\" ><label for=\"sk-estimator-id-2\" class=\"sk-toggleable__label sk-toggleable__label-arrow\">OneHotEncoder</label><div class=\"sk-toggleable__content\"><pre>OneHotEncoder(cols=[&#x27;gender_household_head&#x27;, &#x27;caste_household&#x27;,\n",
       "                    &#x27;education_level_household_head&#x27;, &#x27;income_level_household&#x27;,\n",
       "                    &#x27;land_surface_condition&#x27;, &#x27;foundation_type&#x27;, &#x27;roof_type&#x27;,\n",
       "                    &#x27;ground_floor_type&#x27;, &#x27;other_floor_type&#x27;, &#x27;position&#x27;,\n",
       "                    &#x27;plan_configuration&#x27;, &#x27;superstructure&#x27;],\n",
       "              use_cat_names=True)</pre></div></div></div><div class=\"sk-item\"><div class=\"sk-estimator sk-toggleable\"><input class=\"sk-toggleable__control sk-hidden--visually\" id=\"sk-estimator-id-3\" type=\"checkbox\" ><label for=\"sk-estimator-id-3\" class=\"sk-toggleable__label sk-toggleable__label-arrow\">LogisticRegression</label><div class=\"sk-toggleable__content\"><pre>LogisticRegression(max_iter=3000)</pre></div></div></div></div></div></div></div>"
      ],
      "text/plain": [
       "Pipeline(steps=[('onehotencoder',\n",
       "                 OneHotEncoder(cols=['gender_household_head', 'caste_household',\n",
       "                                     'education_level_household_head',\n",
       "                                     'income_level_household',\n",
       "                                     'land_surface_condition',\n",
       "                                     'foundation_type', 'roof_type',\n",
       "                                     'ground_floor_type', 'other_floor_type',\n",
       "                                     'position', 'plan_configuration',\n",
       "                                     'superstructure'],\n",
       "                               use_cat_names=True)),\n",
       "                ('logisticregression', LogisticRegression(max_iter=3000))])"
      ]
     },
     "execution_count": 29,
     "metadata": {},
     "output_type": "execute_result"
    }
   ],
   "source": [
    "# Create a Pipeline called model_lr \n",
    "model_lr = make_pipeline(\n",
    "    OneHotEncoder(use_cat_names=True),  # Model has an OneHotEncoder transformer\n",
    "    LogisticRegression(max_iter=3000)   # Model has a LogisticRegression predictor\n",
    ")\n",
    "\n",
    "# Fit model to training data\n",
    "model_lr.fit(X_train, y_train)"
   ]
  },
  {
   "cell_type": "markdown",
   "id": "cbe090ce-d6fe-4f9b-8f41-85e62f229dad",
   "metadata": {},
   "source": [
    "## Evaluate"
   ]
  },
  {
   "cell_type": "code",
   "execution_count": 30,
   "id": "25018ed5-2436-4a68-af92-eb489ddfaab6",
   "metadata": {},
   "outputs": [
    {
     "name": "stdout",
     "output_type": "stream",
     "text": [
      "LR Training Accuracy: 0.7181497710275755\n",
      "LR Validation Accuracy: 0.7220135731699282\n"
     ]
    }
   ],
   "source": [
    "# Calculate the training and test accuracy scores for model_lr\n",
    "acc_train = accuracy_score(y_train, model_lr.predict(X_train))\n",
    "acc_test = accuracy_score(y_test, model_lr.predict(X_test))\n",
    "\n",
    "print(\"LR Training Accuracy:\", acc_train)\n",
    "print(\"LR Validation Accuracy:\", acc_test)"
   ]
  },
  {
   "cell_type": "markdown",
   "id": "0b5b0647-ac10-410a-adaf-c67f7808e6d8",
   "metadata": {},
   "source": [
    "# Communicate"
   ]
  },
  {
   "cell_type": "markdown",
   "id": "7942ee3c-1e55-41f5-8505-82c2592235fc",
   "metadata": {},
   "source": [
    "**Odds Ratio DataFrame** "
   ]
  },
  {
   "cell_type": "markdown",
   "id": "940b309f-33a8-4de1-bb82-d9d51f044019",
   "metadata": {},
   "source": [
    "First, I want to extract the feature names and importances from my model. Then create a pandas Series named `feat_imp`, where the index is `features` and the values are my the exponential of the `importances`."
   ]
  },
  {
   "cell_type": "code",
   "execution_count": 31,
   "id": "ea2546c1-597b-426b-811d-e836dd3fc011",
   "metadata": {},
   "outputs": [
    {
     "data": {
      "text/plain": [
       "superstructure_Brick, cement mortar    0.320384\n",
       "foundation_type_RC                     0.352191\n",
       "roof_type_RCC/RB/RBC                   0.413963\n",
       "ground_floor_type_RC                   0.535611\n",
       "caste_household_Kumal                  0.540619\n",
       "dtype: float64"
      ]
     },
     "execution_count": 31,
     "metadata": {},
     "output_type": "execute_result"
    }
   ],
   "source": [
    "features = model_lr.named_steps[\"onehotencoder\"].get_feature_names()\n",
    "importances = model_lr.named_steps[\"logisticregression\"].coef_[0]\n",
    "feat_imp = pd.Series(np.exp(importances), index=features).sort_values()\n",
    "feat_imp.head()"
   ]
  },
  {
   "cell_type": "markdown",
   "id": "6b884b49-899b-4d80-8189-54bf63f26eaa",
   "metadata": {},
   "source": [
    "**Odds Ratio Bar Chart I** "
   ]
  },
  {
   "cell_type": "code",
   "execution_count": 32,
   "id": "aece1d53-c139-4483-90e3-e1def4f3c9a0",
   "metadata": {},
   "outputs": [
    {
     "data": {
      "image/png": "[encoded data removed]",
      "text/plain": [
       "<Figure size 432x288 with 1 Axes>"
      ]
     },
     "metadata": {
      "needs_background": "light"
     },
     "output_type": "display_data"
    }
   ],
   "source": [
    "# Create a horizontal bar chart with the ten largest coefficients from feat_imp\n",
    "feat_imp.tail(10).plot(kind=\"barh\")\n",
    "plt.xlabel(\"Odds Ratio\");   # Label x-axis \"Odds Ratio\""
   ]
  },
  {
   "cell_type": "markdown",
   "id": "48f1bb98-bbea-42f0-b2b2-e465e8a08d9b",
   "metadata": {},
   "source": [
    "**Odds Ratio Bar Chart II** "
   ]
  },
  {
   "cell_type": "code",
   "execution_count": 33,
   "id": "fc37fe40-efcb-4673-a721-dd9329b824ae",
   "metadata": {},
   "outputs": [
    {
     "data": {
      "image/png": "[encoded data removed]",
      "text/plain": [
       "<Figure size 432x288 with 1 Axes>"
      ]
     },
     "metadata": {
      "needs_background": "light"
     },
     "output_type": "display_data"
    }
   ],
   "source": [
    "# Create a horizontal bar chart with the ten smallest coefficients from feat_imp\n",
    "feat_imp.head(10).plot(kind=\"barh\")\n",
    "plt.xlabel(\"Odss Ratio\");   # Label x-axis \"Odds Ratio\""
   ]
  },
  {
   "cell_type": "markdown",
   "id": "b341b9f1-17c0-4fc9-8274-96526b5ecde6",
   "metadata": {},
   "source": [
    "## Explore Some More"
   ]
  },
  {
   "cell_type": "markdown",
   "id": "a633aaf4-4be5-4023-b040-66d629f7b642",
   "metadata": {},
   "source": [
    "**Household Damage by Municipality**"
   ]
  },
  {
   "cell_type": "markdown",
   "id": "c1cc5b03-c532-42a8-9847-021ce418e089",
   "metadata": {},
   "source": [
    "Which municipalities saw the highest proportion of severely damaged buildings?"
   ]
  },
  {
   "cell_type": "code",
   "execution_count": 34,
   "id": "e9bc8713-31a2-41af-b096-0faf6bd80b44",
   "metadata": {},
   "outputs": [
    {
     "data": {
      "text/plain": [
       "vdcmun_id\n",
       "31    0.930199\n",
       "32    0.851117\n",
       "35    0.827145\n",
       "30    0.824201\n",
       "33    0.782464\n",
       "34    0.666979\n",
       "39    0.572344\n",
       "40    0.512444\n",
       "38    0.506425\n",
       "36    0.503972\n",
       "37    0.437789\n",
       "Name: severe_damage, dtype: float64"
      ]
     },
     "execution_count": 34,
     "metadata": {},
     "output_type": "execute_result"
    }
   ],
   "source": [
    "damage_by_vdcmun = (\n",
    "    df.groupby(\"vdcmun_id\")[\"severe_damage\"].mean().sort_values(ascending=False)\n",
    ")\n",
    "damage_by_vdcmun"
   ]
  },
  {
   "cell_type": "code",
   "execution_count": 35,
   "id": "a7a34342-d21e-46a0-9f74-1e5425fc9fc8",
   "metadata": {},
   "outputs": [
    {
     "data": {
      "text/html": [
       "<div>\n",
       "<style scoped>\n",
       "    .dataframe tbody tr th:only-of-type {\n",
       "        vertical-align: middle;\n",
       "    }\n",
       "\n",
       "    .dataframe tbody tr th {\n",
       "        vertical-align: top;\n",
       "    }\n",
       "\n",
       "    .dataframe thead th {\n",
       "        text-align: right;\n",
       "    }\n",
       "</style>\n",
       "<table border=\"1\" class=\"dataframe\">\n",
       "  <thead>\n",
       "    <tr style=\"text-align: right;\">\n",
       "      <th></th>\n",
       "      <th>severe_damage</th>\n",
       "    </tr>\n",
       "    <tr>\n",
       "      <th>vdcmun_id</th>\n",
       "      <th></th>\n",
       "    </tr>\n",
       "  </thead>\n",
       "  <tbody>\n",
       "    <tr>\n",
       "      <th>31</th>\n",
       "      <td>0.930199</td>\n",
       "    </tr>\n",
       "    <tr>\n",
       "      <th>32</th>\n",
       "      <td>0.851117</td>\n",
       "    </tr>\n",
       "    <tr>\n",
       "      <th>35</th>\n",
       "      <td>0.827145</td>\n",
       "    </tr>\n",
       "    <tr>\n",
       "      <th>30</th>\n",
       "      <td>0.824201</td>\n",
       "    </tr>\n",
       "    <tr>\n",
       "      <th>33</th>\n",
       "      <td>0.782464</td>\n",
       "    </tr>\n",
       "    <tr>\n",
       "      <th>34</th>\n",
       "      <td>0.666979</td>\n",
       "    </tr>\n",
       "    <tr>\n",
       "      <th>39</th>\n",
       "      <td>0.572344</td>\n",
       "    </tr>\n",
       "    <tr>\n",
       "      <th>40</th>\n",
       "      <td>0.512444</td>\n",
       "    </tr>\n",
       "    <tr>\n",
       "      <th>38</th>\n",
       "      <td>0.506425</td>\n",
       "    </tr>\n",
       "    <tr>\n",
       "      <th>36</th>\n",
       "      <td>0.503972</td>\n",
       "    </tr>\n",
       "    <tr>\n",
       "      <th>37</th>\n",
       "      <td>0.437789</td>\n",
       "    </tr>\n",
       "  </tbody>\n",
       "</table>\n",
       "</div>"
      ],
      "text/plain": [
       "           severe_damage\n",
       "vdcmun_id               \n",
       "31              0.930199\n",
       "32              0.851117\n",
       "35              0.827145\n",
       "30              0.824201\n",
       "33              0.782464\n",
       "34              0.666979\n",
       "39              0.572344\n",
       "40              0.512444\n",
       "38              0.506425\n",
       "36              0.503972\n",
       "37              0.437789"
      ]
     },
     "execution_count": 35,
     "metadata": {},
     "output_type": "execute_result"
    }
   ],
   "source": [
    "# Create a DataFrame damage_by_vdcmun by grouping df by \"vdcmun_id\" and then calculating the mean of the \"severe_damage\" column\n",
    "damage_by_vdcmun = (\n",
    "    df.groupby(\"vdcmun_id\")[\"severe_damage\"].mean().sort_values(ascending=False)  # Sort damage_by_vdcmun from highest to lowest proportion\n",
    ").to_frame()\n",
    "damage_by_vdcmun"
   ]
  },
  {
   "cell_type": "markdown",
   "id": "bfef5f2e-f4ef-414d-b39b-d54870e1b2bc",
   "metadata": {},
   "source": [
    "**Municipality Damage Line Plot**"
   ]
  },
  {
   "cell_type": "code",
   "execution_count": 36,
   "id": "50747792-8e25-4c74-ad40-d8ccea740822",
   "metadata": {},
   "outputs": [
    {
     "data": {
      "image/png": "[encoded data removed]",
      "text/plain": [
       "<Figure size 432x288 with 1 Axes>"
      ]
     },
     "metadata": {
      "needs_background": "light"
     },
     "output_type": "display_data"
    }
   ],
   "source": [
    "# Create a line plot of damage_by_vdcmun\n",
    "damage_by_vdcmun.plot(kind=\"bar\")\n",
    "plt.xlabel(\"Municipality ID\")               # Label x-axis \"Municipality ID\"\n",
    "plt.ylabel(\"% of Total Households\")         # Label y-axis \"% of Total Households\"\n",
    "plt.title(\"Severe Damage by Municipality\"); # Title \"Household Damage by Municipality\""
   ]
  },
  {
   "cell_type": "code",
   "execution_count": 37,
   "id": "1d70a57f-58dc-4067-ab95-984ab664f6e6",
   "metadata": {},
   "outputs": [
    {
     "data": {
      "image/png": "[encoded data removed]",
      "text/plain": [
       "<Figure size 432x288 with 1 Axes>"
      ]
     },
     "metadata": {
      "needs_background": "light"
     },
     "output_type": "display_data"
    }
   ],
   "source": [
    "# Plot line\n",
    "plt.plot(damage_by_vdcmun)\n",
    "plt.xlabel(\"Municipality ID\")\n",
    "plt.ylabel(\"% of Total Households\")\n",
    "plt.title(\"Severe Damage by Municipality\");"
   ]
  },
  {
   "cell_type": "code",
   "execution_count": 38,
   "id": "5c5afb9f-5503-4374-b795-c4107ff83032",
   "metadata": {},
   "outputs": [
    {
     "data": {
      "image/png": "[encoded data removed]",
      "text/plain": [
       "<Figure size 432x288 with 1 Axes>"
      ]
     },
     "metadata": {
      "needs_background": "light"
     },
     "output_type": "display_data"
    }
   ],
   "source": [
    "# Plot line\n",
    "plt.plot(damage_by_vdcmun.values)\n",
    "plt.xticks(range(11))\n",
    "plt.xlabel(\"Municipality ID\")\n",
    "plt.ylabel(\"% of Total Households\")\n",
    "plt.title(\"Severe Damage by Municipality\");"
   ]
  },
  {
   "cell_type": "code",
   "execution_count": 39,
   "id": "98c9aeea-c0ba-42b2-9484-5dc5ac2bfd64",
   "metadata": {},
   "outputs": [
    {
     "data": {
      "image/png": "[encoded data removed]",
      "text/plain": [
       "<Figure size 432x288 with 1 Axes>"
      ]
     },
     "metadata": {
      "needs_background": "light"
     },
     "output_type": "display_data"
    }
   ],
   "source": [
    "# Plot line\n",
    "plt.plot(damage_by_vdcmun.values)\n",
    "plt.xticks(range(len(damage_by_vdcmun)))\n",
    "plt.xlabel(\"Municipality ID\")\n",
    "plt.ylabel(\"% of Total Households\")\n",
    "plt.title(\"Severe Damage by Municipality\");"
   ]
  },
  {
   "cell_type": "code",
   "execution_count": 40,
   "id": "1c080e08-dddb-4735-af8f-f10dc6b32332",
   "metadata": {},
   "outputs": [
    {
     "data": {
      "image/png": "[encoded data removed]",
      "text/plain": [
       "<Figure size 432x288 with 1 Axes>"
      ]
     },
     "metadata": {
      "needs_background": "light"
     },
     "output_type": "display_data"
    }
   ],
   "source": [
    "# Plot line\n",
    "plt.plot(damage_by_vdcmun.values)\n",
    "plt.xticks(range(len(damage_by_vdcmun)), labels=damage_by_vdcmun.index)\n",
    "plt.xlabel(\"Municipality ID\")\n",
    "plt.ylabel(\"% of Total Households\")\n",
    "plt.title(\"Severe Damage by Municipality\");"
   ]
  },
  {
   "cell_type": "code",
   "execution_count": 41,
   "id": "9583c43e-3a51-42c3-83d9-434cdc7378f8",
   "metadata": {},
   "outputs": [
    {
     "data": {
      "image/png": "[encoded data removed]",
      "text/plain": [
       "<Figure size 432x288 with 1 Axes>"
      ]
     },
     "metadata": {
      "needs_background": "light"
     },
     "output_type": "display_data"
    }
   ],
   "source": [
    "# Plot line\n",
    "plt.plot(damage_by_vdcmun.values)\n",
    "plt.xticks(range(len(damage_by_vdcmun)), labels=damage_by_vdcmun.index)\n",
    "plt.yticks(np.arange(0.0, 1.1, 0.2))\n",
    "plt.xlabel(\"Municipality ID\")\n",
    "plt.ylabel(\"% of Total Households\")\n",
    "plt.title(\"Severe Damage by Municipality\");"
   ]
  },
  {
   "cell_type": "code",
   "execution_count": 42,
   "id": "5dea9185-6de4-46e2-8670-af082ce829de",
   "metadata": {},
   "outputs": [
    {
     "data": {
      "image/png": "[encoded data removed]",
      "text/plain": [
       "<Figure size 432x288 with 1 Axes>"
      ]
     },
     "metadata": {
      "needs_background": "light"
     },
     "output_type": "display_data"
    }
   ],
   "source": [
    "# Plot line\n",
    "plt.plot(damage_by_vdcmun.values, color=\"grey\")\n",
    "plt.xticks(range(len(damage_by_vdcmun)), labels=damage_by_vdcmun.index)\n",
    "plt.yticks(np.arange(0.0, 1.1, 0.2))\n",
    "plt.xlabel(\"Municipality ID\")\n",
    "plt.ylabel(\"% of Total Households\")\n",
    "plt.title(\"Severe Damage by Municipality\");"
   ]
  },
  {
   "cell_type": "markdown",
   "id": "b69beab2-b12a-4c66-9d9f-622907aaf84b",
   "metadata": {},
   "source": [
    "Given the plot above, my next question is: How are the Gurung and Kumal populations distributed across these municipalities?"
   ]
  },
  {
   "cell_type": "markdown",
   "id": "1c8b3cfd-ef82-45db-9011-46bcb948b95b",
   "metadata": {},
   "source": [
    "**Municipality Damage Gurung Households** "
   ]
  },
  {
   "cell_type": "code",
   "execution_count": 43,
   "id": "14d7dc73-81f9-4ccf-a304-bb48318c7d6a",
   "metadata": {},
   "outputs": [
    {
     "data": {
      "text/html": [
       "<div>\n",
       "<style scoped>\n",
       "    .dataframe tbody tr th:only-of-type {\n",
       "        vertical-align: middle;\n",
       "    }\n",
       "\n",
       "    .dataframe tbody tr th {\n",
       "        vertical-align: top;\n",
       "    }\n",
       "\n",
       "    .dataframe thead th {\n",
       "        text-align: right;\n",
       "    }\n",
       "</style>\n",
       "<table border=\"1\" class=\"dataframe\">\n",
       "  <thead>\n",
       "    <tr style=\"text-align: right;\">\n",
       "      <th></th>\n",
       "      <th>gender_household_head</th>\n",
       "      <th>age_household_head</th>\n",
       "      <th>caste_household</th>\n",
       "      <th>education_level_household_head</th>\n",
       "      <th>income_level_household</th>\n",
       "      <th>size_household</th>\n",
       "      <th>is_bank_account_present_in_household</th>\n",
       "      <th>age_building</th>\n",
       "      <th>plinth_area_sq_ft</th>\n",
       "      <th>height_ft_pre_eq</th>\n",
       "      <th>land_surface_condition</th>\n",
       "      <th>foundation_type</th>\n",
       "      <th>roof_type</th>\n",
       "      <th>ground_floor_type</th>\n",
       "      <th>other_floor_type</th>\n",
       "      <th>position</th>\n",
       "      <th>plan_configuration</th>\n",
       "      <th>superstructure</th>\n",
       "      <th>vdcmun_id</th>\n",
       "      <th>severe_damage</th>\n",
       "    </tr>\n",
       "    <tr>\n",
       "      <th>household_id</th>\n",
       "      <th></th>\n",
       "      <th></th>\n",
       "      <th></th>\n",
       "      <th></th>\n",
       "      <th></th>\n",
       "      <th></th>\n",
       "      <th></th>\n",
       "      <th></th>\n",
       "      <th></th>\n",
       "      <th></th>\n",
       "      <th></th>\n",
       "      <th></th>\n",
       "      <th></th>\n",
       "      <th></th>\n",
       "      <th></th>\n",
       "      <th></th>\n",
       "      <th></th>\n",
       "      <th></th>\n",
       "      <th></th>\n",
       "      <th></th>\n",
       "    </tr>\n",
       "  </thead>\n",
       "  <tbody>\n",
       "    <tr>\n",
       "      <th>16525401</th>\n",
       "      <td>Male</td>\n",
       "      <td>53.0</td>\n",
       "      <td>Gurung</td>\n",
       "      <td>Illiterate</td>\n",
       "      <td>Rs. 10 thousand</td>\n",
       "      <td>6.0</td>\n",
       "      <td>0.0</td>\n",
       "      <td>20</td>\n",
       "      <td>425</td>\n",
       "      <td>18</td>\n",
       "      <td>Steep slope</td>\n",
       "      <td>Mud mortar-Stone/Brick</td>\n",
       "      <td>Bamboo/Timber-Light roof</td>\n",
       "      <td>Brick/Stone</td>\n",
       "      <td>Timber-Planck</td>\n",
       "      <td>Not attached</td>\n",
       "      <td>Rectangular</td>\n",
       "      <td>Stone, mud mortar</td>\n",
       "      <td>30</td>\n",
       "      <td>1</td>\n",
       "    </tr>\n",
       "    <tr>\n",
       "      <th>16526801</th>\n",
       "      <td>Female</td>\n",
       "      <td>40.0</td>\n",
       "      <td>Gurung</td>\n",
       "      <td>Illiterate</td>\n",
       "      <td>Rs. 10 thousand</td>\n",
       "      <td>5.0</td>\n",
       "      <td>0.0</td>\n",
       "      <td>20</td>\n",
       "      <td>800</td>\n",
       "      <td>16</td>\n",
       "      <td>Steep slope</td>\n",
       "      <td>Mud mortar-Stone/Brick</td>\n",
       "      <td>Bamboo/Timber-Light roof</td>\n",
       "      <td>Brick/Stone</td>\n",
       "      <td>Timber-Planck</td>\n",
       "      <td>Not attached</td>\n",
       "      <td>Rectangular</td>\n",
       "      <td>Stone, mud mortar</td>\n",
       "      <td>30</td>\n",
       "      <td>1</td>\n",
       "    </tr>\n",
       "    <tr>\n",
       "      <th>16542901</th>\n",
       "      <td>Male</td>\n",
       "      <td>78.0</td>\n",
       "      <td>Gurung</td>\n",
       "      <td>Non-formal education</td>\n",
       "      <td>Rs. 10 thousand</td>\n",
       "      <td>2.0</td>\n",
       "      <td>1.0</td>\n",
       "      <td>40</td>\n",
       "      <td>218</td>\n",
       "      <td>12</td>\n",
       "      <td>Flat</td>\n",
       "      <td>Mud mortar-Stone/Brick</td>\n",
       "      <td>Bamboo/Timber-Heavy roof</td>\n",
       "      <td>Brick/Stone</td>\n",
       "      <td>TImber/Bamboo-Mud</td>\n",
       "      <td>Not attached</td>\n",
       "      <td>Rectangular</td>\n",
       "      <td>Stone, mud mortar</td>\n",
       "      <td>30</td>\n",
       "      <td>1</td>\n",
       "    </tr>\n",
       "    <tr>\n",
       "      <th>16543701</th>\n",
       "      <td>Female</td>\n",
       "      <td>37.0</td>\n",
       "      <td>Gurung</td>\n",
       "      <td>Non-formal education</td>\n",
       "      <td>Rs. 20-30 thousand</td>\n",
       "      <td>5.0</td>\n",
       "      <td>0.0</td>\n",
       "      <td>12</td>\n",
       "      <td>216</td>\n",
       "      <td>12</td>\n",
       "      <td>Flat</td>\n",
       "      <td>Mud mortar-Stone/Brick</td>\n",
       "      <td>Bamboo/Timber-Light roof</td>\n",
       "      <td>Brick/Stone</td>\n",
       "      <td>TImber/Bamboo-Mud</td>\n",
       "      <td>Attached-1 side</td>\n",
       "      <td>Rectangular</td>\n",
       "      <td>Stone, mud mortar</td>\n",
       "      <td>30</td>\n",
       "      <td>1</td>\n",
       "    </tr>\n",
       "    <tr>\n",
       "      <th>16544201</th>\n",
       "      <td>Male</td>\n",
       "      <td>97.0</td>\n",
       "      <td>Gurung</td>\n",
       "      <td>Illiterate</td>\n",
       "      <td>Rs. 10 thousand</td>\n",
       "      <td>8.0</td>\n",
       "      <td>0.0</td>\n",
       "      <td>9</td>\n",
       "      <td>220</td>\n",
       "      <td>12</td>\n",
       "      <td>Flat</td>\n",
       "      <td>Mud mortar-Stone/Brick</td>\n",
       "      <td>Bamboo/Timber-Light roof</td>\n",
       "      <td>Brick/Stone</td>\n",
       "      <td>TImber/Bamboo-Mud</td>\n",
       "      <td>Not attached</td>\n",
       "      <td>Rectangular</td>\n",
       "      <td>Stone, mud mortar</td>\n",
       "      <td>30</td>\n",
       "      <td>1</td>\n",
       "    </tr>\n",
       "  </tbody>\n",
       "</table>\n",
       "</div>"
      ],
      "text/plain": [
       "             gender_household_head  age_household_head caste_household  \\\n",
       "household_id                                                             \n",
       "16525401                      Male                53.0          Gurung   \n",
       "16526801                    Female                40.0          Gurung   \n",
       "16542901                      Male                78.0          Gurung   \n",
       "16543701                    Female                37.0          Gurung   \n",
       "16544201                      Male                97.0          Gurung   \n",
       "\n",
       "             education_level_household_head income_level_household  \\\n",
       "household_id                                                         \n",
       "16525401                         Illiterate        Rs. 10 thousand   \n",
       "16526801                         Illiterate        Rs. 10 thousand   \n",
       "16542901               Non-formal education        Rs. 10 thousand   \n",
       "16543701               Non-formal education     Rs. 20-30 thousand   \n",
       "16544201                         Illiterate        Rs. 10 thousand   \n",
       "\n",
       "              size_household  is_bank_account_present_in_household  \\\n",
       "household_id                                                         \n",
       "16525401                 6.0                                   0.0   \n",
       "16526801                 5.0                                   0.0   \n",
       "16542901                 2.0                                   1.0   \n",
       "16543701                 5.0                                   0.0   \n",
       "16544201                 8.0                                   0.0   \n",
       "\n",
       "              age_building  plinth_area_sq_ft  height_ft_pre_eq  \\\n",
       "household_id                                                      \n",
       "16525401                20                425                18   \n",
       "16526801                20                800                16   \n",
       "16542901                40                218                12   \n",
       "16543701                12                216                12   \n",
       "16544201                 9                220                12   \n",
       "\n",
       "             land_surface_condition         foundation_type  \\\n",
       "household_id                                                  \n",
       "16525401                Steep slope  Mud mortar-Stone/Brick   \n",
       "16526801                Steep slope  Mud mortar-Stone/Brick   \n",
       "16542901                       Flat  Mud mortar-Stone/Brick   \n",
       "16543701                       Flat  Mud mortar-Stone/Brick   \n",
       "16544201                       Flat  Mud mortar-Stone/Brick   \n",
       "\n",
       "                             roof_type ground_floor_type   other_floor_type  \\\n",
       "household_id                                                                  \n",
       "16525401      Bamboo/Timber-Light roof       Brick/Stone      Timber-Planck   \n",
       "16526801      Bamboo/Timber-Light roof       Brick/Stone      Timber-Planck   \n",
       "16542901      Bamboo/Timber-Heavy roof       Brick/Stone  TImber/Bamboo-Mud   \n",
       "16543701      Bamboo/Timber-Light roof       Brick/Stone  TImber/Bamboo-Mud   \n",
       "16544201      Bamboo/Timber-Light roof       Brick/Stone  TImber/Bamboo-Mud   \n",
       "\n",
       "                     position plan_configuration     superstructure  \\\n",
       "household_id                                                          \n",
       "16525401         Not attached        Rectangular  Stone, mud mortar   \n",
       "16526801         Not attached        Rectangular  Stone, mud mortar   \n",
       "16542901         Not attached        Rectangular  Stone, mud mortar   \n",
       "16543701      Attached-1 side        Rectangular  Stone, mud mortar   \n",
       "16544201         Not attached        Rectangular  Stone, mud mortar   \n",
       "\n",
       "              vdcmun_id  severe_damage  \n",
       "household_id                            \n",
       "16525401             30              1  \n",
       "16526801             30              1  \n",
       "16542901             30              1  \n",
       "16543701             30              1  \n",
       "16544201             30              1  "
      ]
     },
     "execution_count": 43,
     "metadata": {},
     "output_type": "execute_result"
    }
   ],
   "source": [
    "# Create a new column in damage_by_vdcmun that contains the the proportion of Gurung households in each municipality\n",
    "df[df[\"caste_household\"] == \"Gurung\"].head()"
   ]
  },
  {
   "cell_type": "code",
   "execution_count": 44,
   "id": "129f0c4f-d8cc-48f2-8f38-6e83140482f1",
   "metadata": {},
   "outputs": [
    {
     "data": {
      "text/plain": [
       "vdcmun_id\n",
       "30    2339\n",
       "31    1363\n",
       "32    2777\n",
       "33      79\n",
       "34     821\n",
       "35    3229\n",
       "36     829\n",
       "37     676\n",
       "38     557\n",
       "39     734\n",
       "40    1715\n",
       "Name: severe_damage, dtype: int64"
      ]
     },
     "execution_count": 44,
     "metadata": {},
     "output_type": "execute_result"
    }
   ],
   "source": [
    "df[df[\"caste_household\"] == \"Gurung\"].groupby(\"vdcmun_id\")[\"severe_damage\"].count()"
   ]
  },
  {
   "cell_type": "code",
   "execution_count": 45,
   "id": "1d1fd5c2-903b-48b4-9e41-46128ea25891",
   "metadata": {},
   "outputs": [
    {
     "data": {
      "text/plain": [
       "vdcmun_id\n",
       "30    0.338152\n",
       "31    0.326937\n",
       "32    0.387849\n",
       "33    0.011943\n",
       "34    0.385084\n",
       "35    0.826889\n",
       "36    0.143178\n",
       "37    0.050485\n",
       "38    0.049023\n",
       "39    0.097971\n",
       "40    0.246727\n",
       "Name: severe_damage, dtype: float64"
      ]
     },
     "execution_count": 45,
     "metadata": {},
     "output_type": "execute_result"
    }
   ],
   "source": [
    "(\n",
    "    df[df[\"caste_household\"] == \"Gurung\"].groupby(\"vdcmun_id\")[\"severe_damage\"].count()\n",
    "    / df.groupby(\"vdcmun_id\")[\"severe_damage\"].count()\n",
    "    \n",
    ")"
   ]
  },
  {
   "cell_type": "code",
   "execution_count": 46,
   "id": "4a96ac8a-5ed6-4677-b49a-3c112cc17299",
   "metadata": {},
   "outputs": [],
   "source": [
    "damage_by_vdcmun[\"Gurung\"] = (\n",
    "    df[df[\"caste_household\"] == \"Gurung\"].groupby(\"vdcmun_id\")[\"severe_damage\"].count()\n",
    "    / df.groupby(\"vdcmun_id\")[\"severe_damage\"].count()\n",
    "    \n",
    ")"
   ]
  },
  {
   "cell_type": "code",
   "execution_count": 47,
   "id": "12ad3fae-9800-494e-a6c6-5b603afbed29",
   "metadata": {},
   "outputs": [
    {
     "data": {
      "text/html": [
       "<div>\n",
       "<style scoped>\n",
       "    .dataframe tbody tr th:only-of-type {\n",
       "        vertical-align: middle;\n",
       "    }\n",
       "\n",
       "    .dataframe tbody tr th {\n",
       "        vertical-align: top;\n",
       "    }\n",
       "\n",
       "    .dataframe thead th {\n",
       "        text-align: right;\n",
       "    }\n",
       "</style>\n",
       "<table border=\"1\" class=\"dataframe\">\n",
       "  <thead>\n",
       "    <tr style=\"text-align: right;\">\n",
       "      <th></th>\n",
       "      <th>severe_damage</th>\n",
       "      <th>Gurung</th>\n",
       "    </tr>\n",
       "    <tr>\n",
       "      <th>vdcmun_id</th>\n",
       "      <th></th>\n",
       "      <th></th>\n",
       "    </tr>\n",
       "  </thead>\n",
       "  <tbody>\n",
       "    <tr>\n",
       "      <th>31</th>\n",
       "      <td>0.930199</td>\n",
       "      <td>0.326937</td>\n",
       "    </tr>\n",
       "    <tr>\n",
       "      <th>32</th>\n",
       "      <td>0.851117</td>\n",
       "      <td>0.387849</td>\n",
       "    </tr>\n",
       "    <tr>\n",
       "      <th>35</th>\n",
       "      <td>0.827145</td>\n",
       "      <td>0.826889</td>\n",
       "    </tr>\n",
       "    <tr>\n",
       "      <th>30</th>\n",
       "      <td>0.824201</td>\n",
       "      <td>0.338152</td>\n",
       "    </tr>\n",
       "    <tr>\n",
       "      <th>33</th>\n",
       "      <td>0.782464</td>\n",
       "      <td>0.011943</td>\n",
       "    </tr>\n",
       "    <tr>\n",
       "      <th>34</th>\n",
       "      <td>0.666979</td>\n",
       "      <td>0.385084</td>\n",
       "    </tr>\n",
       "    <tr>\n",
       "      <th>39</th>\n",
       "      <td>0.572344</td>\n",
       "      <td>0.097971</td>\n",
       "    </tr>\n",
       "    <tr>\n",
       "      <th>40</th>\n",
       "      <td>0.512444</td>\n",
       "      <td>0.246727</td>\n",
       "    </tr>\n",
       "    <tr>\n",
       "      <th>38</th>\n",
       "      <td>0.506425</td>\n",
       "      <td>0.049023</td>\n",
       "    </tr>\n",
       "    <tr>\n",
       "      <th>36</th>\n",
       "      <td>0.503972</td>\n",
       "      <td>0.143178</td>\n",
       "    </tr>\n",
       "    <tr>\n",
       "      <th>37</th>\n",
       "      <td>0.437789</td>\n",
       "      <td>0.050485</td>\n",
       "    </tr>\n",
       "  </tbody>\n",
       "</table>\n",
       "</div>"
      ],
      "text/plain": [
       "           severe_damage    Gurung\n",
       "vdcmun_id                         \n",
       "31              0.930199  0.326937\n",
       "32              0.851117  0.387849\n",
       "35              0.827145  0.826889\n",
       "30              0.824201  0.338152\n",
       "33              0.782464  0.011943\n",
       "34              0.666979  0.385084\n",
       "39              0.572344  0.097971\n",
       "40              0.512444  0.246727\n",
       "38              0.506425  0.049023\n",
       "36              0.503972  0.143178\n",
       "37              0.437789  0.050485"
      ]
     },
     "execution_count": 47,
     "metadata": {},
     "output_type": "execute_result"
    }
   ],
   "source": [
    "damage_by_vdcmun"
   ]
  },
  {
   "cell_type": "markdown",
   "id": "0251fe4a-5083-4b76-8a56-c02931226e0c",
   "metadata": {},
   "source": [
    "**Municipality Damage Kumal Households** "
   ]
  },
  {
   "cell_type": "code",
   "execution_count": 48,
   "id": "f03e112d-eebc-44aa-92b4-366a77081ad2",
   "metadata": {},
   "outputs": [
    {
     "data": {
      "text/plain": [
       "vdcmun_id\n",
       "30         NaN\n",
       "31         NaN\n",
       "32         NaN\n",
       "33    0.029478\n",
       "34         NaN\n",
       "35         NaN\n",
       "36    0.003282\n",
       "37    0.048842\n",
       "38    0.100686\n",
       "39    0.000267\n",
       "40    0.036973\n",
       "Name: severe_damage, dtype: float64"
      ]
     },
     "execution_count": 48,
     "metadata": {},
     "output_type": "execute_result"
    }
   ],
   "source": [
    "(\n",
    "    df[df[\"caste_household\"] == \"Kumal\"].groupby(\"vdcmun_id\")[\"severe_damage\"].count()\n",
    "    / df.groupby(\"vdcmun_id\")[\"severe_damage\"].count()\n",
    "    \n",
    ")"
   ]
  },
  {
   "cell_type": "code",
   "execution_count": 49,
   "id": "51b9cb9d-6322-4681-ae87-eeb6d53547b6",
   "metadata": {},
   "outputs": [
    {
     "data": {
      "text/plain": [
       "vdcmun_id\n",
       "30    0.000000\n",
       "31    0.000000\n",
       "32    0.000000\n",
       "33    0.029478\n",
       "34    0.000000\n",
       "35    0.000000\n",
       "36    0.003282\n",
       "37    0.048842\n",
       "38    0.100686\n",
       "39    0.000267\n",
       "40    0.036973\n",
       "Name: severe_damage, dtype: float64"
      ]
     },
     "execution_count": 49,
     "metadata": {},
     "output_type": "execute_result"
    }
   ],
   "source": [
    "(\n",
    "    df[df[\"caste_household\"] == \"Kumal\"].groupby(\"vdcmun_id\")[\"severe_damage\"].count()\n",
    "    / df.groupby(\"vdcmun_id\")[\"severe_damage\"].count()\n",
    "    \n",
    ").fillna(0)"
   ]
  },
  {
   "cell_type": "code",
   "execution_count": 50,
   "id": "9beed0a6-19cf-4bdc-a7b0-85b959303d7c",
   "metadata": {},
   "outputs": [],
   "source": [
    "damage_by_vdcmun[\"Kumal\"] = (\n",
    "    df[df[\"caste_household\"] == \"Kumal\"].groupby(\"vdcmun_id\")[\"severe_damage\"].count()\n",
    "    / df.groupby(\"vdcmun_id\")[\"severe_damage\"].count()\n",
    "    \n",
    ").fillna(0)"
   ]
  },
  {
   "cell_type": "code",
   "execution_count": 51,
   "id": "b362174a-f7b3-4a8b-94ce-0f481409317d",
   "metadata": {},
   "outputs": [
    {
     "data": {
      "text/html": [
       "<div>\n",
       "<style scoped>\n",
       "    .dataframe tbody tr th:only-of-type {\n",
       "        vertical-align: middle;\n",
       "    }\n",
       "\n",
       "    .dataframe tbody tr th {\n",
       "        vertical-align: top;\n",
       "    }\n",
       "\n",
       "    .dataframe thead th {\n",
       "        text-align: right;\n",
       "    }\n",
       "</style>\n",
       "<table border=\"1\" class=\"dataframe\">\n",
       "  <thead>\n",
       "    <tr style=\"text-align: right;\">\n",
       "      <th></th>\n",
       "      <th>severe_damage</th>\n",
       "      <th>Gurung</th>\n",
       "      <th>Kumal</th>\n",
       "    </tr>\n",
       "    <tr>\n",
       "      <th>vdcmun_id</th>\n",
       "      <th></th>\n",
       "      <th></th>\n",
       "      <th></th>\n",
       "    </tr>\n",
       "  </thead>\n",
       "  <tbody>\n",
       "    <tr>\n",
       "      <th>31</th>\n",
       "      <td>0.930199</td>\n",
       "      <td>0.326937</td>\n",
       "      <td>0.000000</td>\n",
       "    </tr>\n",
       "    <tr>\n",
       "      <th>32</th>\n",
       "      <td>0.851117</td>\n",
       "      <td>0.387849</td>\n",
       "      <td>0.000000</td>\n",
       "    </tr>\n",
       "    <tr>\n",
       "      <th>35</th>\n",
       "      <td>0.827145</td>\n",
       "      <td>0.826889</td>\n",
       "      <td>0.000000</td>\n",
       "    </tr>\n",
       "    <tr>\n",
       "      <th>30</th>\n",
       "      <td>0.824201</td>\n",
       "      <td>0.338152</td>\n",
       "      <td>0.000000</td>\n",
       "    </tr>\n",
       "    <tr>\n",
       "      <th>33</th>\n",
       "      <td>0.782464</td>\n",
       "      <td>0.011943</td>\n",
       "      <td>0.029478</td>\n",
       "    </tr>\n",
       "    <tr>\n",
       "      <th>34</th>\n",
       "      <td>0.666979</td>\n",
       "      <td>0.385084</td>\n",
       "      <td>0.000000</td>\n",
       "    </tr>\n",
       "    <tr>\n",
       "      <th>39</th>\n",
       "      <td>0.572344</td>\n",
       "      <td>0.097971</td>\n",
       "      <td>0.000267</td>\n",
       "    </tr>\n",
       "    <tr>\n",
       "      <th>40</th>\n",
       "      <td>0.512444</td>\n",
       "      <td>0.246727</td>\n",
       "      <td>0.036973</td>\n",
       "    </tr>\n",
       "    <tr>\n",
       "      <th>38</th>\n",
       "      <td>0.506425</td>\n",
       "      <td>0.049023</td>\n",
       "      <td>0.100686</td>\n",
       "    </tr>\n",
       "    <tr>\n",
       "      <th>36</th>\n",
       "      <td>0.503972</td>\n",
       "      <td>0.143178</td>\n",
       "      <td>0.003282</td>\n",
       "    </tr>\n",
       "    <tr>\n",
       "      <th>37</th>\n",
       "      <td>0.437789</td>\n",
       "      <td>0.050485</td>\n",
       "      <td>0.048842</td>\n",
       "    </tr>\n",
       "  </tbody>\n",
       "</table>\n",
       "</div>"
      ],
      "text/plain": [
       "           severe_damage    Gurung     Kumal\n",
       "vdcmun_id                                   \n",
       "31              0.930199  0.326937  0.000000\n",
       "32              0.851117  0.387849  0.000000\n",
       "35              0.827145  0.826889  0.000000\n",
       "30              0.824201  0.338152  0.000000\n",
       "33              0.782464  0.011943  0.029478\n",
       "34              0.666979  0.385084  0.000000\n",
       "39              0.572344  0.097971  0.000267\n",
       "40              0.512444  0.246727  0.036973\n",
       "38              0.506425  0.049023  0.100686\n",
       "36              0.503972  0.143178  0.003282\n",
       "37              0.437789  0.050485  0.048842"
      ]
     },
     "execution_count": 51,
     "metadata": {},
     "output_type": "execute_result"
    }
   ],
   "source": [
    "damage_by_vdcmun"
   ]
  },
  {
   "cell_type": "markdown",
   "id": "7adf2dcd-775f-4f39-8d73-39237c24885a",
   "metadata": {},
   "source": [
    "**Destruction Visualizations** "
   ]
  },
  {
   "cell_type": "code",
   "execution_count": 52,
   "id": "51efb148-c6f4-4753-a4ac-056eb7f74203",
   "metadata": {},
   "outputs": [
    {
     "data": {
      "image/png": "[encoded data removed]",
      "text/plain": [
       "<Figure size 432x288 with 1 Axes>"
      ]
     },
     "metadata": {
      "needs_background": "light"
     },
     "output_type": "display_data"
    }
   ],
   "source": [
    "plt.plot(damage_by_vdcmun[\"severe_damage\"].values, color=\"grey\")\n",
    "plt.xticks(range(len(damage_by_vdcmun)), labels=damage_by_vdcmun.index)\n",
    "plt.yticks(np.arange(0.0, 1.1, 0.2))\n",
    "plt.xlabel(\"Municipality ID\")\n",
    "plt.ylabel(\"% of Total Households\")\n",
    "plt.title(\"Severe Damage by Municipality\");"
   ]
  },
  {
   "cell_type": "code",
   "execution_count": 53,
   "id": "3a726b5d-45c8-4fda-9e1b-4c00ebbba3bd",
   "metadata": {},
   "outputs": [
    {
     "data": {
      "image/png": "[encoded data removed]",
      "text/plain": [
       "<Figure size 432x288 with 1 Axes>"
      ]
     },
     "metadata": {
      "needs_background": "light"
     },
     "output_type": "display_data"
    }
   ],
   "source": [
    "damage_by_vdcmun.drop(columns=\"severe_damage\").plot(\n",
    "    kind=\"bar\"\n",
    "\n",
    ")\n",
    "\n",
    "plt.plot(damage_by_vdcmun[\"severe_damage\"].values, color=\"grey\")\n",
    "plt.xticks(range(len(damage_by_vdcmun)), labels=damage_by_vdcmun.index)\n",
    "plt.yticks(np.arange(0.0, 1.1, 0.2))\n",
    "plt.xlabel(\"Municipality ID\")               \n",
    "plt.ylabel(\"% of Total Households\")         \n",
    "plt.title(\"Severe Damage by Municipality\");"
   ]
  },
  {
   "cell_type": "code",
   "execution_count": 54,
   "id": "1632064b-3936-425f-acd2-a612af2f1067",
   "metadata": {},
   "outputs": [
    {
     "data": {
      "image/png": "[encoded data removed]",
      "text/plain": [
       "<Figure size 432x288 with 1 Axes>"
      ]
     },
     "metadata": {
      "needs_background": "light"
     },
     "output_type": "display_data"
    }
   ],
   "source": [
    "# Create a visualization that combines the line plot of severely damaged households I made above with a stacked bar chart showing the proportion of Gurung and Kumal households in each district\n",
    "damage_by_vdcmun.drop(columns=\"severe_damage\").plot(\n",
    "    kind=\"bar\", stacked=True \n",
    "\n",
    ")\n",
    "\n",
    "plt.plot(damage_by_vdcmun[\"severe_damage\"].values, color=\"grey\")\n",
    "plt.xticks(range(len(damage_by_vdcmun)), labels=damage_by_vdcmun.index)\n",
    "plt.yticks(np.arange(0.0, 1.1, 0.2))\n",
    "plt.xlabel(\"Municipality ID\")               # Label my x-axis \"Municipality ID\"\n",
    "plt.ylabel(\"% of Total Households\")         # Label my y-axis \"% of Total Households\"\n",
    "plt.title(\"Severe Damage by Municipality\");"
   ]
  }
 ],
 "metadata": {
  "kernelspec": {
   "display_name": "Python 3 (ipykernel)",
   "language": "python",
   "name": "python3"
  },
  "language_info": {
   "codemirror_mode": {
    "name": "ipython",
    "version": 3
   },
   "file_extension": ".py",
   "mimetype": "text/x-python",
   "name": "python",
   "nbconvert_exporter": "python",
   "pygments_lexer": "ipython3",
   "version": "3.9.6"
  }
 },
 "nbformat": 4,
 "nbformat_minor": 5
}
